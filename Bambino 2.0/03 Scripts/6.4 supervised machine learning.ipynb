{
 "cells": [
  {
   "cell_type": "markdown",
   "id": "80fde11c",
   "metadata": {},
   "source": [
    "# 6.4 Machine Learning - Supervised \n",
    "\n",
    "## This script contains:\n",
    "\n",
    "__1. Importing libraries and data__\n",
    "\n",
    "__2. Data Cleaning__\n",
    "\n",
    "__3. Explore data visually__\n",
    "\n",
    "__4. State hypothesis in markdown cell__\n",
    "\n",
    "__5. Reshape variables into NumPy arrays__\n",
    "\n",
    "__6. Split data into two sets: training and test__\n",
    "\n",
    "__7. Run a linear regression on the data__\n",
    "\n",
    "__8. Create a plot that shows the linear regression on the *test* set__\n",
    "\n",
    "__9. Interpret results__\n",
    "\n",
    "__10. Check the model performance statistics (MSE and R2)__\n",
    "\n",
    "__11. Compare the predicted y values with the actual y values in a dataframe__\n",
    "\n",
    "__12. Thoughts and Observations__"
   ]
  },
  {
   "cell_type": "markdown",
   "id": "8da7c2c2",
   "metadata": {},
   "source": [
    "### 1. Importing libraries and data"
   ]
  },
  {
   "cell_type": "code",
   "execution_count": 1,
   "id": "f2eb9cad",
   "metadata": {},
   "outputs": [],
   "source": [
    "#import libraries\n",
    "\n",
    "import pandas as pd\n",
    "import numpy as np\n",
    "import seaborn as sns\n",
    "import matplotlib\n",
    "import matplotlib.pyplot as plt\n",
    "import os\n",
    "import sklearn\n",
    "from sklearn.model_selection import train_test_split \n",
    "from sklearn.linear_model import LinearRegression\n",
    "from sklearn.metrics import mean_squared_error, r2_score"
   ]
  },
  {
   "cell_type": "code",
   "execution_count": 2,
   "id": "b842559a",
   "metadata": {},
   "outputs": [],
   "source": [
    "# This option ensures that the graphs you create are displayed within the notebook without the need to \"call\" them specifically.\n",
    "\n",
    "%matplotlib inline"
   ]
  },
  {
   "cell_type": "code",
   "execution_count": 3,
   "id": "1b40eaaa",
   "metadata": {},
   "outputs": [],
   "source": [
    "path = r'C:\\Users\\Victoria\\Documents\\veallen20\\OneDrive\\Desktop\\Data Analytics Career Foundry\\6.0 Advanced Analytics and Dashboard Design\\Bambino 2.0'"
   ]
  },
  {
   "cell_type": "code",
   "execution_count": 4,
   "id": "577f7756",
   "metadata": {},
   "outputs": [],
   "source": [
    "df = pd.read_csv(os.path.join(path, '02 Data', 'Cleaned Data', 'baseball_dv.csv'))"
   ]
  },
  {
   "cell_type": "markdown",
   "id": "694aa25b",
   "metadata": {},
   "source": [
    "### 2. Data Cleaning"
   ]
  },
  {
   "cell_type": "code",
   "execution_count": 5,
   "id": "b26e5d43",
   "metadata": {},
   "outputs": [
    {
     "data": {
      "text/plain": [
       "Index(['rank', 'combined_key', 'name', 'year', 'city', 'state', 'country',\n",
       "       'bats', 'throws', 'team_signed', 'team_locale', 'team_locale_county',\n",
       "       'position', 'contract_start', 'contract_end', 'contract_length',\n",
       "       'total_salary', 'age', 'team_played', 'league', 'games', 'war',\n",
       "       'actual_salary', 'league_r', 'bats_r', 'throws_r', 'team_sr', 'team_pr',\n",
       "       'position_r'],\n",
       "      dtype='object')"
      ]
     },
     "execution_count": 5,
     "metadata": {},
     "output_type": "execute_result"
    }
   ],
   "source": [
    "df.columns"
   ]
  },
  {
   "cell_type": "code",
   "execution_count": 6,
   "id": "9ce896c3",
   "metadata": {},
   "outputs": [
    {
     "data": {
      "text/html": [
       "<div>\n",
       "<style scoped>\n",
       "    .dataframe tbody tr th:only-of-type {\n",
       "        vertical-align: middle;\n",
       "    }\n",
       "\n",
       "    .dataframe tbody tr th {\n",
       "        vertical-align: top;\n",
       "    }\n",
       "\n",
       "    .dataframe thead th {\n",
       "        text-align: right;\n",
       "    }\n",
       "</style>\n",
       "<table border=\"1\" class=\"dataframe\">\n",
       "  <thead>\n",
       "    <tr style=\"text-align: right;\">\n",
       "      <th></th>\n",
       "      <th>rank</th>\n",
       "      <th>combined_key</th>\n",
       "      <th>name</th>\n",
       "      <th>year</th>\n",
       "      <th>city</th>\n",
       "      <th>state</th>\n",
       "      <th>country</th>\n",
       "      <th>bats</th>\n",
       "      <th>throws</th>\n",
       "      <th>team_signed</th>\n",
       "      <th>...</th>\n",
       "      <th>league</th>\n",
       "      <th>games</th>\n",
       "      <th>war</th>\n",
       "      <th>actual_salary</th>\n",
       "      <th>league_r</th>\n",
       "      <th>bats_r</th>\n",
       "      <th>throws_r</th>\n",
       "      <th>team_sr</th>\n",
       "      <th>team_pr</th>\n",
       "      <th>position_r</th>\n",
       "    </tr>\n",
       "  </thead>\n",
       "  <tbody>\n",
       "    <tr>\n",
       "      <th>0</th>\n",
       "      <td>1</td>\n",
       "      <td>Mike Trout, 2019</td>\n",
       "      <td>Mike Trout</td>\n",
       "      <td>2019</td>\n",
       "      <td>Vineland, New Jersey</td>\n",
       "      <td>New Jersey</td>\n",
       "      <td>United States</td>\n",
       "      <td>R</td>\n",
       "      <td>R</td>\n",
       "      <td>LAA</td>\n",
       "      <td>...</td>\n",
       "      <td>AL</td>\n",
       "      <td>134</td>\n",
       "      <td>7.9</td>\n",
       "      <td>17666667.0</td>\n",
       "      <td>0</td>\n",
       "      <td>0</td>\n",
       "      <td>0</td>\n",
       "      <td>12</td>\n",
       "      <td>12</td>\n",
       "      <td>8</td>\n",
       "    </tr>\n",
       "    <tr>\n",
       "      <th>1</th>\n",
       "      <td>1</td>\n",
       "      <td>Mike Trout, 2020</td>\n",
       "      <td>Mike Trout</td>\n",
       "      <td>2020</td>\n",
       "      <td>Vineland, New Jersey</td>\n",
       "      <td>New Jersey</td>\n",
       "      <td>United States</td>\n",
       "      <td>R</td>\n",
       "      <td>R</td>\n",
       "      <td>LAA</td>\n",
       "      <td>...</td>\n",
       "      <td>AL</td>\n",
       "      <td>53</td>\n",
       "      <td>1.8</td>\n",
       "      <td>37666666.0</td>\n",
       "      <td>0</td>\n",
       "      <td>0</td>\n",
       "      <td>0</td>\n",
       "      <td>12</td>\n",
       "      <td>12</td>\n",
       "      <td>8</td>\n",
       "    </tr>\n",
       "    <tr>\n",
       "      <th>2</th>\n",
       "      <td>1</td>\n",
       "      <td>Mike Trout, 2021</td>\n",
       "      <td>Mike Trout</td>\n",
       "      <td>2021</td>\n",
       "      <td>Vineland, New Jersey</td>\n",
       "      <td>New Jersey</td>\n",
       "      <td>United States</td>\n",
       "      <td>R</td>\n",
       "      <td>R</td>\n",
       "      <td>LAA</td>\n",
       "      <td>...</td>\n",
       "      <td>AL</td>\n",
       "      <td>36</td>\n",
       "      <td>1.8</td>\n",
       "      <td>37116667.0</td>\n",
       "      <td>0</td>\n",
       "      <td>0</td>\n",
       "      <td>0</td>\n",
       "      <td>12</td>\n",
       "      <td>12</td>\n",
       "      <td>8</td>\n",
       "    </tr>\n",
       "    <tr>\n",
       "      <th>3</th>\n",
       "      <td>1</td>\n",
       "      <td>Mike Trout, 2022</td>\n",
       "      <td>Mike Trout</td>\n",
       "      <td>2022</td>\n",
       "      <td>Vineland, New Jersey</td>\n",
       "      <td>New Jersey</td>\n",
       "      <td>United States</td>\n",
       "      <td>R</td>\n",
       "      <td>R</td>\n",
       "      <td>LAA</td>\n",
       "      <td>...</td>\n",
       "      <td>AL</td>\n",
       "      <td>119</td>\n",
       "      <td>6.3</td>\n",
       "      <td>37116666.0</td>\n",
       "      <td>0</td>\n",
       "      <td>0</td>\n",
       "      <td>0</td>\n",
       "      <td>12</td>\n",
       "      <td>12</td>\n",
       "      <td>8</td>\n",
       "    </tr>\n",
       "    <tr>\n",
       "      <th>4</th>\n",
       "      <td>1</td>\n",
       "      <td>Mike Trout, 2023</td>\n",
       "      <td>Mike Trout</td>\n",
       "      <td>2023</td>\n",
       "      <td>Vineland, New Jersey</td>\n",
       "      <td>New Jersey</td>\n",
       "      <td>United States</td>\n",
       "      <td>R</td>\n",
       "      <td>R</td>\n",
       "      <td>LAA</td>\n",
       "      <td>...</td>\n",
       "      <td>AL</td>\n",
       "      <td>81</td>\n",
       "      <td>3.0</td>\n",
       "      <td>37116667.0</td>\n",
       "      <td>0</td>\n",
       "      <td>0</td>\n",
       "      <td>0</td>\n",
       "      <td>12</td>\n",
       "      <td>12</td>\n",
       "      <td>8</td>\n",
       "    </tr>\n",
       "    <tr>\n",
       "      <th>5</th>\n",
       "      <td>2</td>\n",
       "      <td>Mookie Betts, 2021</td>\n",
       "      <td>Mookie Betts</td>\n",
       "      <td>2021</td>\n",
       "      <td>Nashville, Tennessee</td>\n",
       "      <td>Tennessee</td>\n",
       "      <td>United States</td>\n",
       "      <td>R</td>\n",
       "      <td>R</td>\n",
       "      <td>LAD</td>\n",
       "      <td>...</td>\n",
       "      <td>NL</td>\n",
       "      <td>122</td>\n",
       "      <td>4.0</td>\n",
       "      <td>22916667.0</td>\n",
       "      <td>1</td>\n",
       "      <td>0</td>\n",
       "      <td>0</td>\n",
       "      <td>13</td>\n",
       "      <td>13</td>\n",
       "      <td>6</td>\n",
       "    </tr>\n",
       "    <tr>\n",
       "      <th>6</th>\n",
       "      <td>2</td>\n",
       "      <td>Mookie Betts, 2022</td>\n",
       "      <td>Mookie Betts</td>\n",
       "      <td>2022</td>\n",
       "      <td>Nashville, Tennessee</td>\n",
       "      <td>Tennessee</td>\n",
       "      <td>United States</td>\n",
       "      <td>R</td>\n",
       "      <td>R</td>\n",
       "      <td>LAD</td>\n",
       "      <td>...</td>\n",
       "      <td>NL</td>\n",
       "      <td>142</td>\n",
       "      <td>6.4</td>\n",
       "      <td>22916666.0</td>\n",
       "      <td>1</td>\n",
       "      <td>0</td>\n",
       "      <td>0</td>\n",
       "      <td>13</td>\n",
       "      <td>13</td>\n",
       "      <td>6</td>\n",
       "    </tr>\n",
       "    <tr>\n",
       "      <th>7</th>\n",
       "      <td>2</td>\n",
       "      <td>Mookie Betts, 2023</td>\n",
       "      <td>Mookie Betts</td>\n",
       "      <td>2023</td>\n",
       "      <td>Nashville, Tennessee</td>\n",
       "      <td>Tennessee</td>\n",
       "      <td>United States</td>\n",
       "      <td>R</td>\n",
       "      <td>R</td>\n",
       "      <td>LAD</td>\n",
       "      <td>...</td>\n",
       "      <td>NL</td>\n",
       "      <td>111</td>\n",
       "      <td>5.7</td>\n",
       "      <td>25416667.0</td>\n",
       "      <td>1</td>\n",
       "      <td>0</td>\n",
       "      <td>0</td>\n",
       "      <td>13</td>\n",
       "      <td>13</td>\n",
       "      <td>6</td>\n",
       "    </tr>\n",
       "    <tr>\n",
       "      <th>8</th>\n",
       "      <td>3</td>\n",
       "      <td>Aaron Judge, 2023</td>\n",
       "      <td>Aaron Judge</td>\n",
       "      <td>2023</td>\n",
       "      <td>Linden, New Jersey</td>\n",
       "      <td>California</td>\n",
       "      <td>United States</td>\n",
       "      <td>R</td>\n",
       "      <td>R</td>\n",
       "      <td>NYY</td>\n",
       "      <td>...</td>\n",
       "      <td>AL</td>\n",
       "      <td>65</td>\n",
       "      <td>3.0</td>\n",
       "      <td>40000000.0</td>\n",
       "      <td>0</td>\n",
       "      <td>0</td>\n",
       "      <td>0</td>\n",
       "      <td>18</td>\n",
       "      <td>18</td>\n",
       "      <td>8</td>\n",
       "    </tr>\n",
       "    <tr>\n",
       "      <th>9</th>\n",
       "      <td>4</td>\n",
       "      <td>Manny Machado, 2023</td>\n",
       "      <td>Manny Machado</td>\n",
       "      <td>2023</td>\n",
       "      <td>Hialeah, Florida</td>\n",
       "      <td>Florida</td>\n",
       "      <td>United States</td>\n",
       "      <td>R</td>\n",
       "      <td>R</td>\n",
       "      <td>SDP</td>\n",
       "      <td>...</td>\n",
       "      <td>NL</td>\n",
       "      <td>103</td>\n",
       "      <td>2.4</td>\n",
       "      <td>17090909.0</td>\n",
       "      <td>1</td>\n",
       "      <td>0</td>\n",
       "      <td>0</td>\n",
       "      <td>22</td>\n",
       "      <td>22</td>\n",
       "      <td>5</td>\n",
       "    </tr>\n",
       "  </tbody>\n",
       "</table>\n",
       "<p>10 rows × 29 columns</p>\n",
       "</div>"
      ],
      "text/plain": [
       "   rank         combined_key           name  year                  city  \\\n",
       "0     1     Mike Trout, 2019     Mike Trout  2019  Vineland, New Jersey   \n",
       "1     1     Mike Trout, 2020     Mike Trout  2020  Vineland, New Jersey   \n",
       "2     1     Mike Trout, 2021     Mike Trout  2021  Vineland, New Jersey   \n",
       "3     1     Mike Trout, 2022     Mike Trout  2022  Vineland, New Jersey   \n",
       "4     1     Mike Trout, 2023     Mike Trout  2023  Vineland, New Jersey   \n",
       "5     2   Mookie Betts, 2021   Mookie Betts  2021  Nashville, Tennessee   \n",
       "6     2   Mookie Betts, 2022   Mookie Betts  2022  Nashville, Tennessee   \n",
       "7     2   Mookie Betts, 2023   Mookie Betts  2023  Nashville, Tennessee   \n",
       "8     3    Aaron Judge, 2023    Aaron Judge  2023    Linden, New Jersey   \n",
       "9     4  Manny Machado, 2023  Manny Machado  2023      Hialeah, Florida   \n",
       "\n",
       "        state        country bats throws team_signed  ... league games  war  \\\n",
       "0  New Jersey  United States    R      R         LAA  ...     AL   134  7.9   \n",
       "1  New Jersey  United States    R      R         LAA  ...     AL    53  1.8   \n",
       "2  New Jersey  United States    R      R         LAA  ...     AL    36  1.8   \n",
       "3  New Jersey  United States    R      R         LAA  ...     AL   119  6.3   \n",
       "4  New Jersey  United States    R      R         LAA  ...     AL    81  3.0   \n",
       "5   Tennessee  United States    R      R         LAD  ...     NL   122  4.0   \n",
       "6   Tennessee  United States    R      R         LAD  ...     NL   142  6.4   \n",
       "7   Tennessee  United States    R      R         LAD  ...     NL   111  5.7   \n",
       "8  California  United States    R      R         NYY  ...     AL    65  3.0   \n",
       "9     Florida  United States    R      R         SDP  ...     NL   103  2.4   \n",
       "\n",
       "   actual_salary  league_r  bats_r  throws_r  team_sr team_pr position_r  \n",
       "0     17666667.0         0       0         0       12      12          8  \n",
       "1     37666666.0         0       0         0       12      12          8  \n",
       "2     37116667.0         0       0         0       12      12          8  \n",
       "3     37116666.0         0       0         0       12      12          8  \n",
       "4     37116667.0         0       0         0       12      12          8  \n",
       "5     22916667.0         1       0         0       13      13          6  \n",
       "6     22916666.0         1       0         0       13      13          6  \n",
       "7     25416667.0         1       0         0       13      13          6  \n",
       "8     40000000.0         0       0         0       18      18          8  \n",
       "9     17090909.0         1       0         0       22      22          5  \n",
       "\n",
       "[10 rows x 29 columns]"
      ]
     },
     "execution_count": 6,
     "metadata": {},
     "output_type": "execute_result"
    }
   ],
   "source": [
    "df.head(10)"
   ]
  },
  {
   "cell_type": "code",
   "execution_count": 7,
   "id": "c41661bc",
   "metadata": {},
   "outputs": [
    {
     "data": {
      "text/plain": [
       "(1481, 29)"
      ]
     },
     "execution_count": 7,
     "metadata": {},
     "output_type": "execute_result"
    }
   ],
   "source": [
    "df.shape"
   ]
  },
  {
   "cell_type": "markdown",
   "id": "9729a267",
   "metadata": {},
   "source": [
    "__Missing values__"
   ]
  },
  {
   "cell_type": "code",
   "execution_count": 8,
   "id": "022d319a",
   "metadata": {},
   "outputs": [
    {
     "data": {
      "text/plain": [
       "rank                    0\n",
       "combined_key            0\n",
       "name                    0\n",
       "year                    0\n",
       "city                    0\n",
       "state                 494\n",
       "country                 0\n",
       "bats                    0\n",
       "throws                  0\n",
       "team_signed             0\n",
       "team_locale             0\n",
       "team_locale_county      0\n",
       "position                0\n",
       "contract_start          0\n",
       "contract_end            0\n",
       "contract_length         0\n",
       "total_salary            0\n",
       "age                     0\n",
       "team_played             0\n",
       "league                  0\n",
       "games                   0\n",
       "war                     1\n",
       "actual_salary          84\n",
       "league_r                0\n",
       "bats_r                  0\n",
       "throws_r                0\n",
       "team_sr                 0\n",
       "team_pr                 0\n",
       "position_r              0\n",
       "dtype: int64"
      ]
     },
     "execution_count": 8,
     "metadata": {},
     "output_type": "execute_result"
    }
   ],
   "source": [
    "#Check for missing values\n",
    "\n",
    "df.isnull().sum()"
   ]
  },
  {
   "cell_type": "code",
   "execution_count": 9,
   "id": "6ebc9101",
   "metadata": {},
   "outputs": [],
   "source": [
    "# Remove missing war value from dataset\n",
    "df_2 = df[df['war'].isnull() == False]"
   ]
  },
  {
   "cell_type": "code",
   "execution_count": 10,
   "id": "e336bb52",
   "metadata": {},
   "outputs": [
    {
     "data": {
      "text/plain": [
       "0"
      ]
     },
     "execution_count": 10,
     "metadata": {},
     "output_type": "execute_result"
    }
   ],
   "source": [
    "# confirm missing war value has been removed\n",
    "df_2['war'].isnull().sum()"
   ]
  },
  {
   "cell_type": "markdown",
   "id": "8085f7c2",
   "metadata": {},
   "source": [
    "I'm going to create two new data sets, one for international born players, df_i, and one for US born players, df_d. df_2 will have the information on all players. I'm also going to impute a value of '0' for missing 'actual_salary' values. After some research, I found that the missing values represent no pay, or a salary of 0."
   ]
  },
  {
   "cell_type": "code",
   "execution_count": 11,
   "id": "f2404af6",
   "metadata": {},
   "outputs": [],
   "source": [
    "# Imputing '0' for 'actual_salary' missing values, I'll make a new df_3.\n",
    "df_3 = df_2\n"
   ]
  },
  {
   "cell_type": "code",
   "execution_count": 12,
   "id": "da4923e1",
   "metadata": {},
   "outputs": [
    {
     "name": "stderr",
     "output_type": "stream",
     "text": [
      "C:\\Users\\Victoria\\AppData\\Local\\Temp\\ipykernel_948\\622827322.py:2: SettingWithCopyWarning: \n",
      "A value is trying to be set on a copy of a slice from a DataFrame.\n",
      "Try using .loc[row_indexer,col_indexer] = value instead\n",
      "\n",
      "See the caveats in the documentation: https://pandas.pydata.org/pandas-docs/stable/user_guide/indexing.html#returning-a-view-versus-a-copy\n",
      "  df_3['actual_salary'] = df_3['actual_salary'].replace(np.nan, 0)\n"
     ]
    }
   ],
   "source": [
    "#Impute missing 'actual_salary' values with 0\n",
    "df_3['actual_salary'] = df_3['actual_salary'].replace(np.nan, 0)"
   ]
  },
  {
   "cell_type": "code",
   "execution_count": 13,
   "id": "5e4bc9b2",
   "metadata": {},
   "outputs": [
    {
     "data": {
      "text/plain": [
       "rank                    0\n",
       "combined_key            0\n",
       "name                    0\n",
       "year                    0\n",
       "city                    0\n",
       "state                 494\n",
       "country                 0\n",
       "bats                    0\n",
       "throws                  0\n",
       "team_signed             0\n",
       "team_locale             0\n",
       "team_locale_county      0\n",
       "position                0\n",
       "contract_start          0\n",
       "contract_end            0\n",
       "contract_length         0\n",
       "total_salary            0\n",
       "age                     0\n",
       "team_played             0\n",
       "league                  0\n",
       "games                   0\n",
       "war                     0\n",
       "actual_salary           0\n",
       "league_r                0\n",
       "bats_r                  0\n",
       "throws_r                0\n",
       "team_sr                 0\n",
       "team_pr                 0\n",
       "position_r              0\n",
       "dtype: int64"
      ]
     },
     "execution_count": 13,
     "metadata": {},
     "output_type": "execute_result"
    }
   ],
   "source": [
    "#Confirm\n",
    "df_3.isnull().sum()"
   ]
  },
  {
   "cell_type": "code",
   "execution_count": 14,
   "id": "5e77720e",
   "metadata": {},
   "outputs": [],
   "source": [
    "#Create df_i for international born players\n",
    "df_i = df_3[df_3['state'].isnull() == True]"
   ]
  },
  {
   "cell_type": "code",
   "execution_count": 15,
   "id": "8dc87440",
   "metadata": {},
   "outputs": [
    {
     "data": {
      "text/plain": [
       "(494, 29)"
      ]
     },
     "execution_count": 15,
     "metadata": {},
     "output_type": "execute_result"
    }
   ],
   "source": [
    "df_i.shape"
   ]
  },
  {
   "cell_type": "code",
   "execution_count": 16,
   "id": "8fe26299",
   "metadata": {},
   "outputs": [],
   "source": [
    "# Create df_d for domestic players\n",
    "df_d = df_3[df_3['state'].isnull() == False]"
   ]
  },
  {
   "cell_type": "code",
   "execution_count": 17,
   "id": "4c040808",
   "metadata": {},
   "outputs": [
    {
     "data": {
      "text/plain": [
       "(986, 29)"
      ]
     },
     "execution_count": 17,
     "metadata": {},
     "output_type": "execute_result"
    }
   ],
   "source": [
    "df_d.shape"
   ]
  },
  {
   "cell_type": "markdown",
   "id": "1b5e06a5",
   "metadata": {},
   "source": [
    "Now I have three options for dataframes to use for regression:\n",
    "1. df_3 = all players\n",
    "2. df_i = international players\n",
    "3. df_d = US born players"
   ]
  },
  {
   "cell_type": "markdown",
   "id": "022ba50d",
   "metadata": {},
   "source": [
    "__Duplicates check__"
   ]
  },
  {
   "cell_type": "code",
   "execution_count": 18,
   "id": "739c4255",
   "metadata": {},
   "outputs": [],
   "source": [
    "#check df_3, all players. Logically, if this df has no duplicates, than df_d and df_i don't either\n",
    "dups_1 = df_3.duplicated()"
   ]
  },
  {
   "cell_type": "code",
   "execution_count": 19,
   "id": "d547fe8a",
   "metadata": {},
   "outputs": [
    {
     "data": {
      "text/plain": [
       "(1480,)"
      ]
     },
     "execution_count": 19,
     "metadata": {},
     "output_type": "execute_result"
    }
   ],
   "source": [
    "dups_1.shape #no dups"
   ]
  },
  {
   "cell_type": "markdown",
   "id": "05cfc17a",
   "metadata": {},
   "source": [
    "__Extreme value checks__"
   ]
  },
  {
   "cell_type": "code",
   "execution_count": 20,
   "id": "ef149c0c",
   "metadata": {},
   "outputs": [
    {
     "name": "stderr",
     "output_type": "stream",
     "text": [
      "C:\\Users\\Victoria\\AppData\\Local\\Temp\\ipykernel_948\\2012442133.py:1: UserWarning: \n",
      "\n",
      "`distplot` is a deprecated function and will be removed in seaborn v0.14.0.\n",
      "\n",
      "Please adapt your code to use either `displot` (a figure-level function with\n",
      "similar flexibility) or `histplot` (an axes-level function for histograms).\n",
      "\n",
      "For a guide to updating your code to use the new functions, please see\n",
      "https://gist.github.com/mwaskom/de44147ed2974457ad6372750bbe5751\n",
      "\n",
      "  sns.distplot(df_3['war'], bins=25) # Shows extreme values\n"
     ]
    },
    {
     "data": {
      "text/plain": [
       "<Axes: xlabel='war', ylabel='Density'>"
      ]
     },
     "execution_count": 20,
     "metadata": {},
     "output_type": "execute_result"
    },
    {
     "data": {
      "image/png": "[encoded data removed]",
      "text/plain": [
       "<Figure size 640x480 with 1 Axes>"
      ]
     },
     "metadata": {},
     "output_type": "display_data"
    }
   ],
   "source": [
    "sns.distplot(df_3['war'], bins=25) # Shows extreme values"
   ]
  },
  {
   "cell_type": "code",
   "execution_count": 21,
   "id": "0369e425",
   "metadata": {},
   "outputs": [
    {
     "data": {
      "text/plain": [
       "count    1480.000000\n",
       "mean        2.447500\n",
       "std         2.455493\n",
       "min        -3.300000\n",
       "25%         0.600000\n",
       "50%         2.100000\n",
       "75%         4.000000\n",
       "max        11.700000\n",
       "Name: war, dtype: float64"
      ]
     },
     "execution_count": 21,
     "metadata": {},
     "output_type": "execute_result"
    }
   ],
   "source": [
    "df_3['war'].describe()"
   ]
  },
  {
   "cell_type": "code",
   "execution_count": 22,
   "id": "b5a44e3f",
   "metadata": {},
   "outputs": [
    {
     "name": "stdout",
     "output_type": "stream",
     "text": [
      "6.0294460784313975\n"
     ]
    }
   ],
   "source": [
    "print(df_3['war'].var())"
   ]
  },
  {
   "cell_type": "markdown",
   "id": "3792c4f5",
   "metadata": {},
   "source": [
    "### 3. Explore data visually"
   ]
  },
  {
   "cell_type": "code",
   "execution_count": 23,
   "id": "7d408851",
   "metadata": {},
   "outputs": [
    {
     "data": {
      "image/png": "[encoded data removed]",
      "text/plain": [
       "<Figure size 640x480 with 1 Axes>"
      ]
     },
     "metadata": {},
     "output_type": "display_data"
    }
   ],
   "source": [
    "# Create a scatterplot using matplotlib for another look at how the chosen variables plot against each other.\n",
    "\n",
    "df_3.plot(x = 'total_salary', y='war',style='o') # The style option creates a scatterplot; without it, we only have lines.\n",
    "plt.title('Total Salary vs WAR Value')  \n",
    "plt.xlabel('Total Salary')  \n",
    "plt.ylabel('WAR Value')  \n",
    "plt.show()"
   ]
  },
  {
   "cell_type": "markdown",
   "id": "46609f2c",
   "metadata": {},
   "source": [
    "### 4. Hypothesis\n",
    "__As total salary increases, the war value of a player increases as well.__"
   ]
  },
  {
   "cell_type": "markdown",
   "id": "279c7af7",
   "metadata": {},
   "source": [
    "### 5. Reshape variables into NumPy arrays"
   ]
  },
  {
   "cell_type": "code",
   "execution_count": 24,
   "id": "b6bdc8a4",
   "metadata": {},
   "outputs": [],
   "source": [
    "# Reshape the variables into NumPy arrays and put them into separate objects.\n",
    "\n",
    "X = df_3['total_salary'].values.reshape(-1,1)\n",
    "y = df_3['war'].values.reshape(-1,1)"
   ]
  },
  {
   "cell_type": "code",
   "execution_count": 25,
   "id": "7a1951ed",
   "metadata": {},
   "outputs": [
    {
     "data": {
      "text/plain": [
       "array([[426500000],\n",
       "       [426500000],\n",
       "       [426500000],\n",
       "       ...,\n",
       "       [ 52000000],\n",
       "       [ 52000000],\n",
       "       [ 52000000]], dtype=int64)"
      ]
     },
     "execution_count": 25,
     "metadata": {},
     "output_type": "execute_result"
    }
   ],
   "source": [
    "X"
   ]
  },
  {
   "cell_type": "code",
   "execution_count": 26,
   "id": "023998bf",
   "metadata": {},
   "outputs": [
    {
     "data": {
      "text/plain": [
       "array([[7.9],\n",
       "       [1.8],\n",
       "       [1.8],\n",
       "       ...,\n",
       "       [3.5],\n",
       "       [2.7],\n",
       "       [0.8]])"
      ]
     },
     "execution_count": 26,
     "metadata": {},
     "output_type": "execute_result"
    }
   ],
   "source": [
    "y"
   ]
  },
  {
   "cell_type": "markdown",
   "id": "cfa895b7",
   "metadata": {},
   "source": [
    "### 6. Split the data into two sets: training and test"
   ]
  },
  {
   "cell_type": "code",
   "execution_count": 27,
   "id": "62bf41ee",
   "metadata": {},
   "outputs": [],
   "source": [
    "# Split data into a training set and a test set.\n",
    "\n",
    "X_train, X_test, y_train, y_test = train_test_split(X, y, test_size=0.3, random_state=0)"
   ]
  },
  {
   "cell_type": "markdown",
   "id": "f868624d",
   "metadata": {},
   "source": [
    "### 7. Run a linear regression on the data"
   ]
  },
  {
   "cell_type": "code",
   "execution_count": 28,
   "id": "4cca0ba5",
   "metadata": {},
   "outputs": [],
   "source": [
    "# Create a regression object.\n",
    "\n",
    "regression = LinearRegression()  # This is the regression object, which will be fit onto the training set."
   ]
  },
  {
   "cell_type": "code",
   "execution_count": 29,
   "id": "b47f6a26",
   "metadata": {},
   "outputs": [
    {
     "data": {
      "text/html": [
       "<style>#sk-container-id-1 {color: black;}#sk-container-id-1 pre{padding: 0;}#sk-container-id-1 div.sk-toggleable {background-color: white;}#sk-container-id-1 label.sk-toggleable__label {cursor: pointer;display: block;width: 100%;margin-bottom: 0;padding: 0.3em;box-sizing: border-box;text-align: center;}#sk-container-id-1 label.sk-toggleable__label-arrow:before {content: \"▸\";float: left;margin-right: 0.25em;color: #696969;}#sk-container-id-1 label.sk-toggleable__label-arrow:hover:before {color: black;}#sk-container-id-1 div.sk-estimator:hover label.sk-toggleable__label-arrow:before {color: black;}#sk-container-id-1 div.sk-toggleable__content {max-height: 0;max-width: 0;overflow: hidden;text-align: left;background-color: #f0f8ff;}#sk-container-id-1 div.sk-toggleable__content pre {margin: 0.2em;color: black;border-radius: 0.25em;background-color: #f0f8ff;}#sk-container-id-1 input.sk-toggleable__control:checked~div.sk-toggleable__content {max-height: 200px;max-width: 100%;overflow: auto;}#sk-container-id-1 input.sk-toggleable__control:checked~label.sk-toggleable__label-arrow:before {content: \"▾\";}#sk-container-id-1 div.sk-estimator input.sk-toggleable__control:checked~label.sk-toggleable__label {background-color: #d4ebff;}#sk-container-id-1 div.sk-label input.sk-toggleable__control:checked~label.sk-toggleable__label {background-color: #d4ebff;}#sk-container-id-1 input.sk-hidden--visually {border: 0;clip: rect(1px 1px 1px 1px);clip: rect(1px, 1px, 1px, 1px);height: 1px;margin: -1px;overflow: hidden;padding: 0;position: absolute;width: 1px;}#sk-container-id-1 div.sk-estimator {font-family: monospace;background-color: #f0f8ff;border: 1px dotted black;border-radius: 0.25em;box-sizing: border-box;margin-bottom: 0.5em;}#sk-container-id-1 div.sk-estimator:hover {background-color: #d4ebff;}#sk-container-id-1 div.sk-parallel-item::after {content: \"\";width: 100%;border-bottom: 1px solid gray;flex-grow: 1;}#sk-container-id-1 div.sk-label:hover label.sk-toggleable__label {background-color: #d4ebff;}#sk-container-id-1 div.sk-serial::before {content: \"\";position: absolute;border-left: 1px solid gray;box-sizing: border-box;top: 0;bottom: 0;left: 50%;z-index: 0;}#sk-container-id-1 div.sk-serial {display: flex;flex-direction: column;align-items: center;background-color: white;padding-right: 0.2em;padding-left: 0.2em;position: relative;}#sk-container-id-1 div.sk-item {position: relative;z-index: 1;}#sk-container-id-1 div.sk-parallel {display: flex;align-items: stretch;justify-content: center;background-color: white;position: relative;}#sk-container-id-1 div.sk-item::before, #sk-container-id-1 div.sk-parallel-item::before {content: \"\";position: absolute;border-left: 1px solid gray;box-sizing: border-box;top: 0;bottom: 0;left: 50%;z-index: -1;}#sk-container-id-1 div.sk-parallel-item {display: flex;flex-direction: column;z-index: 1;position: relative;background-color: white;}#sk-container-id-1 div.sk-parallel-item:first-child::after {align-self: flex-end;width: 50%;}#sk-container-id-1 div.sk-parallel-item:last-child::after {align-self: flex-start;width: 50%;}#sk-container-id-1 div.sk-parallel-item:only-child::after {width: 0;}#sk-container-id-1 div.sk-dashed-wrapped {border: 1px dashed gray;margin: 0 0.4em 0.5em 0.4em;box-sizing: border-box;padding-bottom: 0.4em;background-color: white;}#sk-container-id-1 div.sk-label label {font-family: monospace;font-weight: bold;display: inline-block;line-height: 1.2em;}#sk-container-id-1 div.sk-label-container {text-align: center;}#sk-container-id-1 div.sk-container {/* jupyter's `normalize.less` sets `[hidden] { display: none; }` but bootstrap.min.css set `[hidden] { display: none !important; }` so we also need the `!important` here to be able to override the default hidden behavior on the sphinx rendered scikit-learn.org. See: https://github.com/scikit-learn/scikit-learn/issues/21755 */display: inline-block !important;position: relative;}#sk-container-id-1 div.sk-text-repr-fallback {display: none;}</style><div id=\"sk-container-id-1\" class=\"sk-top-container\"><div class=\"sk-text-repr-fallback\"><pre>LinearRegression()</pre><b>In a Jupyter environment, please rerun this cell to show the HTML representation or trust the notebook. <br />On GitHub, the HTML representation is unable to render, please try loading this page with nbviewer.org.</b></div><div class=\"sk-container\" hidden><div class=\"sk-item\"><div class=\"sk-estimator sk-toggleable\"><input class=\"sk-toggleable__control sk-hidden--visually\" id=\"sk-estimator-id-1\" type=\"checkbox\" checked><label for=\"sk-estimator-id-1\" class=\"sk-toggleable__label sk-toggleable__label-arrow\">LinearRegression</label><div class=\"sk-toggleable__content\"><pre>LinearRegression()</pre></div></div></div></div></div>"
      ],
      "text/plain": [
       "LinearRegression()"
      ]
     },
     "execution_count": 29,
     "metadata": {},
     "output_type": "execute_result"
    }
   ],
   "source": [
    "# Fit the regression object onto the training set.\n",
    "\n",
    "regression.fit(X_train, y_train)"
   ]
  },
  {
   "cell_type": "code",
   "execution_count": 30,
   "id": "829050d9",
   "metadata": {},
   "outputs": [],
   "source": [
    "# Predict the values of y using X.\n",
    "\n",
    "y_predicted = regression.predict(X_test)"
   ]
  },
  {
   "cell_type": "markdown",
   "id": "bf43a27e",
   "metadata": {},
   "source": [
    "### 8. Create a plot that shows the linear regression on the *test* set"
   ]
  },
  {
   "cell_type": "code",
   "execution_count": 31,
   "id": "27eb98f4",
   "metadata": {},
   "outputs": [
    {
     "data": {
      "image/png": "[encoded data removed]",
      "text/plain": [
       "<Figure size 640x480 with 1 Axes>"
      ]
     },
     "metadata": {},
     "output_type": "display_data"
    }
   ],
   "source": [
    "# Create a plot that shows the regression line from the model on the test set.\n",
    "\n",
    "plot_test = plt\n",
    "plot_test.scatter(X_test, y_test, color='gray', s = 15)\n",
    "plot_test.plot(X_test, y_predicted, color='red', linewidth =3)\n",
    "plot_test.title('Total Salary vs WAR Value (Test set)')\n",
    "plot_test.xlabel('Total Salary')\n",
    "plot_test.ylabel('WAR Value')\n",
    "plot_test.show()"
   ]
  },
  {
   "cell_type": "markdown",
   "id": "6b64f9ee",
   "metadata": {},
   "source": [
    "### 9. Interpretation of how well the line appears to fit the data\n",
    "This line doesn't appear to fit the data well. A majority of the data points are clustered towards the left portion of the chart. However, upon visual inspection the line does appear to suport my hypothesis that as total salary increases, war increases as well. I suspect though that I will have a high MSE value and a low R2 score. But we'll see."
   ]
  },
  {
   "cell_type": "markdown",
   "id": "f034e6d7",
   "metadata": {},
   "source": [
    "### 10. Check the model performance statistics (MSE and R2 score)."
   ]
  },
  {
   "cell_type": "code",
   "execution_count": 32,
   "id": "ebb0b4ae",
   "metadata": {},
   "outputs": [],
   "source": [
    "# Create objects that contain the model summary statistics.\n",
    "\n",
    "rmse = mean_squared_error(y_test, y_predicted) # This is the mean squared error\n",
    "r2 = r2_score(y_test, y_predicted) # This is the R2 score. "
   ]
  },
  {
   "cell_type": "code",
   "execution_count": 33,
   "id": "3086eb8c",
   "metadata": {},
   "outputs": [
    {
     "name": "stdout",
     "output_type": "stream",
     "text": [
      "Slope: [[5.21745497e-09]]\n",
      "Mean squared error:  5.181294368438801\n",
      "R2 score:  0.00997676231548994\n"
     ]
    }
   ],
   "source": [
    "# Print the model summary statistics. This is where you evaluate the performance of the model.\n",
    "\n",
    "print('Slope:' ,regression.coef_)\n",
    "print('Mean squared error: ', rmse)\n",
    "print('R2 score: ', r2)"
   ]
  },
  {
   "cell_type": "markdown",
   "id": "194b18a0",
   "metadata": {},
   "source": [
    "### 11. Compare the predicted y values with the actual y values in a dataframe"
   ]
  },
  {
   "cell_type": "code",
   "execution_count": 34,
   "id": "35e412f6",
   "metadata": {},
   "outputs": [
    {
     "data": {
      "text/html": [
       "<div>\n",
       "<style scoped>\n",
       "    .dataframe tbody tr th:only-of-type {\n",
       "        vertical-align: middle;\n",
       "    }\n",
       "\n",
       "    .dataframe tbody tr th {\n",
       "        vertical-align: top;\n",
       "    }\n",
       "\n",
       "    .dataframe thead th {\n",
       "        text-align: right;\n",
       "    }\n",
       "</style>\n",
       "<table border=\"1\" class=\"dataframe\">\n",
       "  <thead>\n",
       "    <tr style=\"text-align: right;\">\n",
       "      <th></th>\n",
       "      <th>Actual</th>\n",
       "      <th>Predicted</th>\n",
       "    </tr>\n",
       "  </thead>\n",
       "  <tbody>\n",
       "    <tr>\n",
       "      <th>0</th>\n",
       "      <td>0.6</td>\n",
       "      <td>2.456061</td>\n",
       "    </tr>\n",
       "    <tr>\n",
       "      <th>1</th>\n",
       "      <td>3.7</td>\n",
       "      <td>2.268232</td>\n",
       "    </tr>\n",
       "    <tr>\n",
       "      <th>2</th>\n",
       "      <td>-0.5</td>\n",
       "      <td>2.398669</td>\n",
       "    </tr>\n",
       "    <tr>\n",
       "      <th>3</th>\n",
       "      <td>0.7</td>\n",
       "      <td>2.380408</td>\n",
       "    </tr>\n",
       "    <tr>\n",
       "      <th>4</th>\n",
       "      <td>-0.2</td>\n",
       "      <td>2.456061</td>\n",
       "    </tr>\n",
       "    <tr>\n",
       "      <th>5</th>\n",
       "      <td>1.4</td>\n",
       "      <td>2.560410</td>\n",
       "    </tr>\n",
       "    <tr>\n",
       "      <th>6</th>\n",
       "      <td>3.9</td>\n",
       "      <td>2.863022</td>\n",
       "    </tr>\n",
       "    <tr>\n",
       "      <th>7</th>\n",
       "      <td>2.4</td>\n",
       "      <td>3.729120</td>\n",
       "    </tr>\n",
       "    <tr>\n",
       "      <th>8</th>\n",
       "      <td>4.5</td>\n",
       "      <td>2.756064</td>\n",
       "    </tr>\n",
       "    <tr>\n",
       "      <th>9</th>\n",
       "      <td>3.7</td>\n",
       "      <td>2.346494</td>\n",
       "    </tr>\n",
       "    <tr>\n",
       "      <th>10</th>\n",
       "      <td>-1.2</td>\n",
       "      <td>2.633454</td>\n",
       "    </tr>\n",
       "    <tr>\n",
       "      <th>11</th>\n",
       "      <td>2.6</td>\n",
       "      <td>2.456061</td>\n",
       "    </tr>\n",
       "    <tr>\n",
       "      <th>12</th>\n",
       "      <td>5.1</td>\n",
       "      <td>2.309972</td>\n",
       "    </tr>\n",
       "    <tr>\n",
       "      <th>13</th>\n",
       "      <td>0.8</td>\n",
       "      <td>2.612584</td>\n",
       "    </tr>\n",
       "    <tr>\n",
       "      <th>14</th>\n",
       "      <td>4.7</td>\n",
       "      <td>2.216058</td>\n",
       "    </tr>\n",
       "    <tr>\n",
       "      <th>15</th>\n",
       "      <td>1.0</td>\n",
       "      <td>2.659541</td>\n",
       "    </tr>\n",
       "    <tr>\n",
       "      <th>16</th>\n",
       "      <td>-1.2</td>\n",
       "      <td>2.612584</td>\n",
       "    </tr>\n",
       "    <tr>\n",
       "      <th>17</th>\n",
       "      <td>1.2</td>\n",
       "      <td>2.257797</td>\n",
       "    </tr>\n",
       "    <tr>\n",
       "      <th>18</th>\n",
       "      <td>-0.6</td>\n",
       "      <td>2.192579</td>\n",
       "    </tr>\n",
       "    <tr>\n",
       "      <th>19</th>\n",
       "      <td>-0.7</td>\n",
       "      <td>3.155200</td>\n",
       "    </tr>\n",
       "    <tr>\n",
       "      <th>20</th>\n",
       "      <td>4.8</td>\n",
       "      <td>2.189970</td>\n",
       "    </tr>\n",
       "    <tr>\n",
       "      <th>21</th>\n",
       "      <td>0.2</td>\n",
       "      <td>2.189970</td>\n",
       "    </tr>\n",
       "    <tr>\n",
       "      <th>22</th>\n",
       "      <td>6.3</td>\n",
       "      <td>2.816065</td>\n",
       "    </tr>\n",
       "    <tr>\n",
       "      <th>23</th>\n",
       "      <td>5.1</td>\n",
       "      <td>2.756064</td>\n",
       "    </tr>\n",
       "    <tr>\n",
       "      <th>24</th>\n",
       "      <td>-0.1</td>\n",
       "      <td>2.346494</td>\n",
       "    </tr>\n",
       "    <tr>\n",
       "      <th>25</th>\n",
       "      <td>2.5</td>\n",
       "      <td>2.320407</td>\n",
       "    </tr>\n",
       "    <tr>\n",
       "      <th>26</th>\n",
       "      <td>2.5</td>\n",
       "      <td>3.259549</td>\n",
       "    </tr>\n",
       "    <tr>\n",
       "      <th>27</th>\n",
       "      <td>3.0</td>\n",
       "      <td>2.294320</td>\n",
       "    </tr>\n",
       "    <tr>\n",
       "      <th>28</th>\n",
       "      <td>0.0</td>\n",
       "      <td>2.195188</td>\n",
       "    </tr>\n",
       "    <tr>\n",
       "      <th>29</th>\n",
       "      <td>2.7</td>\n",
       "      <td>2.701281</td>\n",
       "    </tr>\n",
       "  </tbody>\n",
       "</table>\n",
       "</div>"
      ],
      "text/plain": [
       "    Actual  Predicted\n",
       "0      0.6   2.456061\n",
       "1      3.7   2.268232\n",
       "2     -0.5   2.398669\n",
       "3      0.7   2.380408\n",
       "4     -0.2   2.456061\n",
       "5      1.4   2.560410\n",
       "6      3.9   2.863022\n",
       "7      2.4   3.729120\n",
       "8      4.5   2.756064\n",
       "9      3.7   2.346494\n",
       "10    -1.2   2.633454\n",
       "11     2.6   2.456061\n",
       "12     5.1   2.309972\n",
       "13     0.8   2.612584\n",
       "14     4.7   2.216058\n",
       "15     1.0   2.659541\n",
       "16    -1.2   2.612584\n",
       "17     1.2   2.257797\n",
       "18    -0.6   2.192579\n",
       "19    -0.7   3.155200\n",
       "20     4.8   2.189970\n",
       "21     0.2   2.189970\n",
       "22     6.3   2.816065\n",
       "23     5.1   2.756064\n",
       "24    -0.1   2.346494\n",
       "25     2.5   2.320407\n",
       "26     2.5   3.259549\n",
       "27     3.0   2.294320\n",
       "28     0.0   2.195188\n",
       "29     2.7   2.701281"
      ]
     },
     "execution_count": 34,
     "metadata": {},
     "output_type": "execute_result"
    }
   ],
   "source": [
    "# Create a dataframe comparing the actual and predicted values of y.\n",
    "\n",
    "data = pd.DataFrame({'Actual': y_test.flatten(), 'Predicted': y_predicted.flatten()})\n",
    "data.head(30)"
   ]
  },
  {
   "cell_type": "markdown",
   "id": "8d71ab29",
   "metadata": {},
   "source": [
    "### 12. Thoughts and Observations\n",
    "__Model performace statistics__\n",
    "* __Slope: 5.21745497e-09__\n",
    "    * The slope is positive, meaning that as one variable increases, the other does as well. This does allgin with my hypothesis.\n",
    "* __MSE: 5.181294368438801__\n",
    "    * The variance of the 'war' column is 6.0294460784313975. So I would say that the MSE value is reasonable. This value is the opposite of my inital assumption that the MSE value would be high.\n",
    "* __R2: 0.00997676231548994__\n",
    "    * The R2 score of my model is less than 1% out of 100. This is almost laughable and is absolutely not a good fit. The R2 value is as close to 0 as it can be (almost!) so this model does not do a good job of explaining what factors play into determining neither war values nor total salaries\n",
    "\n",
    "__Predicted y values with actual y values__\n",
    "There is a VERY noticeable difference between actual and predicted y values. They are not similar at all. Also, just from examining the first 30 values in the predicted values are all positive, this is unrealistic. I can't remove any values from the 'war' column either because I don't feel that I have any outlier values. This shows that the model is not explaining the relationship between these two variables well.\n",
    "\n",
    "__Overall conclusion and hypothesis evaluation__\n",
    "This model disproves my hypothesis, *As total salary increases, the war value of a player increases as well.* So, I'm left knowing that total salary of a player doesn't seem to impact their war value (at least from a *linear* regression model). So there must be some other factor that determines contract salaries OR this could imply that players are being overvalued compared to their actual performance... further investigation is definitely needed."
   ]
  },
  {
   "cell_type": "code",
   "execution_count": 35,
   "id": "f43f4051",
   "metadata": {},
   "outputs": [],
   "source": [
    "#Export cleaned df_3, df_d, df_i\n",
    "df_3.to_csv(os.path.join(path, '02 Data', 'Cleaned Data', 'baseball_all.csv'))\n",
    "df_d.to_csv(os.path.join(path, '02 Data', 'Cleaned Data', 'baseball_us.csv'))\n",
    "df_i.to_csv(os.path.join(path, '02 Data', 'Cleaned Data', 'baseball_int.csv'))"
   ]
  }
 ],
 "metadata": {
  "kernelspec": {
   "display_name": "Python 3 (ipykernel)",
   "language": "python",
   "name": "python3"
  },
  "language_info": {
   "codemirror_mode": {
    "name": "ipython",
    "version": 3
   },
   "file_extension": ".py",
   "mimetype": "text/x-python",
   "name": "python",
   "nbconvert_exporter": "python",
   "pygments_lexer": "ipython3",
   "version": "3.10.12"
  }
 },
 "nbformat": 4,
 "nbformat_minor": 5
}
