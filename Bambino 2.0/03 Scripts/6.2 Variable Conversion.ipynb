{
 "cells": [
  {
   "cell_type": "markdown",
   "id": "00b22101",
   "metadata": {},
   "source": [
    "## 6.2 Variable Conversion\n",
    "\n",
    "### This script will include:\n",
    "\n",
    "__00. Import libraries and data__\n",
    "\n",
    "__01. Creation of derived 'dummy' variables that represent string type variables:__\n",
    "\n",
    "* league\n",
    "* position\n",
    "* team_signed\n",
    "* team_actual\n",
    "* bats\n",
    "* throw\n",
    "\n",
    "__This is done so I can create correlation heatmaps and chorpleth maps more easily for my analysis__\n",
    "\n",
    "__02. Data export__"
   ]
  },
  {
   "cell_type": "markdown",
   "id": "0bbe8bb2",
   "metadata": {},
   "source": [
    "### 00. Import Libraries and Data"
   ]
  },
  {
   "cell_type": "code",
   "execution_count": 64,
   "id": "caa5937d",
   "metadata": {},
   "outputs": [],
   "source": [
    "#import libraries\n",
    "\n",
    "import pandas as pd\n",
    "import numpy as np\n",
    "import seaborn as sns\n",
    "import matplotlib.pyplot as plt\n",
    "import matplotlib\n",
    "import os"
   ]
  },
  {
   "cell_type": "code",
   "execution_count": 65,
   "id": "bbf0fe7d",
   "metadata": {},
   "outputs": [
    {
     "data": {
      "text/plain": [
       "'3.7.1'"
      ]
     },
     "execution_count": 65,
     "metadata": {},
     "output_type": "execute_result"
    }
   ],
   "source": [
    "# Check the version of matplotlib to avoid any problems with heatmaps\n",
    "\n",
    "matplotlib.__version__"
   ]
  },
  {
   "cell_type": "code",
   "execution_count": 66,
   "id": "63f0b63b",
   "metadata": {},
   "outputs": [],
   "source": [
    "# Version is past 3.1.1, so we're good!\n",
    "## This option ensures the charts you create are displayed in the notebook without the need to \"call\" them specifically.\n",
    "\n",
    "%matplotlib inline"
   ]
  },
  {
   "cell_type": "code",
   "execution_count": 67,
   "id": "14a7872d",
   "metadata": {},
   "outputs": [],
   "source": [
    "# Create a folder path\n",
    "path = r'C:\\Users\\Victoria\\Documents\\veallen20\\OneDrive\\Desktop\\Data Analytics Career Foundry\\6.0 Advanced Analytics and Dashboard Design\\Bambino 2.0\\02 Data'"
   ]
  },
  {
   "cell_type": "code",
   "execution_count": 68,
   "id": "83280203",
   "metadata": {},
   "outputs": [],
   "source": [
    "# Import cleaned data from previous exercise as 'df'\n",
    "df = pd.read_csv(os.path.join(path, 'Cleaned Data', 'baseball_merged.csv'), index_col = False)"
   ]
  },
  {
   "cell_type": "code",
   "execution_count": 69,
   "id": "1dca802c",
   "metadata": {},
   "outputs": [
    {
     "data": {
      "text/html": [
       "<div>\n",
       "<style scoped>\n",
       "    .dataframe tbody tr th:only-of-type {\n",
       "        vertical-align: middle;\n",
       "    }\n",
       "\n",
       "    .dataframe tbody tr th {\n",
       "        vertical-align: top;\n",
       "    }\n",
       "\n",
       "    .dataframe thead th {\n",
       "        text-align: right;\n",
       "    }\n",
       "</style>\n",
       "<table border=\"1\" class=\"dataframe\">\n",
       "  <thead>\n",
       "    <tr style=\"text-align: right;\">\n",
       "      <th></th>\n",
       "      <th>rank</th>\n",
       "      <th>combined_key</th>\n",
       "      <th>name</th>\n",
       "      <th>year</th>\n",
       "      <th>city</th>\n",
       "      <th>state</th>\n",
       "      <th>country</th>\n",
       "      <th>bats</th>\n",
       "      <th>throws</th>\n",
       "      <th>team_signed</th>\n",
       "      <th>...</th>\n",
       "      <th>contract_start</th>\n",
       "      <th>contract_end</th>\n",
       "      <th>contract_length</th>\n",
       "      <th>total_salary</th>\n",
       "      <th>age</th>\n",
       "      <th>team_played</th>\n",
       "      <th>league</th>\n",
       "      <th>games</th>\n",
       "      <th>war</th>\n",
       "      <th>actual_salary</th>\n",
       "    </tr>\n",
       "  </thead>\n",
       "  <tbody>\n",
       "    <tr>\n",
       "      <th>0</th>\n",
       "      <td>1</td>\n",
       "      <td>Mike Trout, 2019</td>\n",
       "      <td>Mike Trout</td>\n",
       "      <td>2019</td>\n",
       "      <td>Vineland, New Jersey</td>\n",
       "      <td>New Jersey</td>\n",
       "      <td>United States</td>\n",
       "      <td>R</td>\n",
       "      <td>R</td>\n",
       "      <td>LAA</td>\n",
       "      <td>...</td>\n",
       "      <td>2019</td>\n",
       "      <td>2030</td>\n",
       "      <td>12</td>\n",
       "      <td>426500000</td>\n",
       "      <td>27</td>\n",
       "      <td>LAA</td>\n",
       "      <td>AL</td>\n",
       "      <td>134</td>\n",
       "      <td>7.9</td>\n",
       "      <td>17666667.0</td>\n",
       "    </tr>\n",
       "    <tr>\n",
       "      <th>1</th>\n",
       "      <td>1</td>\n",
       "      <td>Mike Trout, 2020</td>\n",
       "      <td>Mike Trout</td>\n",
       "      <td>2020</td>\n",
       "      <td>Vineland, New Jersey</td>\n",
       "      <td>New Jersey</td>\n",
       "      <td>United States</td>\n",
       "      <td>R</td>\n",
       "      <td>R</td>\n",
       "      <td>LAA</td>\n",
       "      <td>...</td>\n",
       "      <td>2019</td>\n",
       "      <td>2030</td>\n",
       "      <td>12</td>\n",
       "      <td>426500000</td>\n",
       "      <td>28</td>\n",
       "      <td>LAA</td>\n",
       "      <td>AL</td>\n",
       "      <td>53</td>\n",
       "      <td>1.8</td>\n",
       "      <td>37666666.0</td>\n",
       "    </tr>\n",
       "    <tr>\n",
       "      <th>2</th>\n",
       "      <td>1</td>\n",
       "      <td>Mike Trout, 2021</td>\n",
       "      <td>Mike Trout</td>\n",
       "      <td>2021</td>\n",
       "      <td>Vineland, New Jersey</td>\n",
       "      <td>New Jersey</td>\n",
       "      <td>United States</td>\n",
       "      <td>R</td>\n",
       "      <td>R</td>\n",
       "      <td>LAA</td>\n",
       "      <td>...</td>\n",
       "      <td>2019</td>\n",
       "      <td>2030</td>\n",
       "      <td>12</td>\n",
       "      <td>426500000</td>\n",
       "      <td>29</td>\n",
       "      <td>LAA</td>\n",
       "      <td>AL</td>\n",
       "      <td>36</td>\n",
       "      <td>1.8</td>\n",
       "      <td>37116667.0</td>\n",
       "    </tr>\n",
       "    <tr>\n",
       "      <th>3</th>\n",
       "      <td>1</td>\n",
       "      <td>Mike Trout, 2022</td>\n",
       "      <td>Mike Trout</td>\n",
       "      <td>2022</td>\n",
       "      <td>Vineland, New Jersey</td>\n",
       "      <td>New Jersey</td>\n",
       "      <td>United States</td>\n",
       "      <td>R</td>\n",
       "      <td>R</td>\n",
       "      <td>LAA</td>\n",
       "      <td>...</td>\n",
       "      <td>2019</td>\n",
       "      <td>2030</td>\n",
       "      <td>12</td>\n",
       "      <td>426500000</td>\n",
       "      <td>30</td>\n",
       "      <td>LAA</td>\n",
       "      <td>AL</td>\n",
       "      <td>119</td>\n",
       "      <td>6.3</td>\n",
       "      <td>37116666.0</td>\n",
       "    </tr>\n",
       "    <tr>\n",
       "      <th>4</th>\n",
       "      <td>1</td>\n",
       "      <td>Mike Trout, 2023</td>\n",
       "      <td>Mike Trout</td>\n",
       "      <td>2023</td>\n",
       "      <td>Vineland, New Jersey</td>\n",
       "      <td>New Jersey</td>\n",
       "      <td>United States</td>\n",
       "      <td>R</td>\n",
       "      <td>R</td>\n",
       "      <td>LAA</td>\n",
       "      <td>...</td>\n",
       "      <td>2019</td>\n",
       "      <td>2030</td>\n",
       "      <td>12</td>\n",
       "      <td>426500000</td>\n",
       "      <td>31</td>\n",
       "      <td>LAA</td>\n",
       "      <td>AL</td>\n",
       "      <td>81</td>\n",
       "      <td>3.0</td>\n",
       "      <td>37116667.0</td>\n",
       "    </tr>\n",
       "  </tbody>\n",
       "</table>\n",
       "<p>5 rows × 22 columns</p>\n",
       "</div>"
      ],
      "text/plain": [
       "   rank      combined_key        name  year                  city       state  \\\n",
       "0     1  Mike Trout, 2019  Mike Trout  2019  Vineland, New Jersey  New Jersey   \n",
       "1     1  Mike Trout, 2020  Mike Trout  2020  Vineland, New Jersey  New Jersey   \n",
       "2     1  Mike Trout, 2021  Mike Trout  2021  Vineland, New Jersey  New Jersey   \n",
       "3     1  Mike Trout, 2022  Mike Trout  2022  Vineland, New Jersey  New Jersey   \n",
       "4     1  Mike Trout, 2023  Mike Trout  2023  Vineland, New Jersey  New Jersey   \n",
       "\n",
       "         country bats throws team_signed  ... contract_start contract_end  \\\n",
       "0  United States    R      R         LAA  ...           2019         2030   \n",
       "1  United States    R      R         LAA  ...           2019         2030   \n",
       "2  United States    R      R         LAA  ...           2019         2030   \n",
       "3  United States    R      R         LAA  ...           2019         2030   \n",
       "4  United States    R      R         LAA  ...           2019         2030   \n",
       "\n",
       "   contract_length  total_salary  age  team_played  league games  war  \\\n",
       "0               12     426500000   27          LAA      AL   134  7.9   \n",
       "1               12     426500000   28          LAA      AL    53  1.8   \n",
       "2               12     426500000   29          LAA      AL    36  1.8   \n",
       "3               12     426500000   30          LAA      AL   119  6.3   \n",
       "4               12     426500000   31          LAA      AL    81  3.0   \n",
       "\n",
       "   actual_salary  \n",
       "0     17666667.0  \n",
       "1     37666666.0  \n",
       "2     37116667.0  \n",
       "3     37116666.0  \n",
       "4     37116667.0  \n",
       "\n",
       "[5 rows x 22 columns]"
      ]
     },
     "execution_count": 69,
     "metadata": {},
     "output_type": "execute_result"
    }
   ],
   "source": [
    "# Check data import\n",
    "df.head()"
   ]
  },
  {
   "cell_type": "markdown",
   "id": "a491662b",
   "metadata": {},
   "source": [
    "### 01. Creation of derived variables\n",
    "\n",
    "__First I will check the data types of all columns so I can determine which ones I can reasonably create a 'flag' for.__"
   ]
  },
  {
   "cell_type": "code",
   "execution_count": 70,
   "id": "a827ab7a",
   "metadata": {},
   "outputs": [
    {
     "data": {
      "text/plain": [
       "rank                 int64\n",
       "combined_key        object\n",
       "name                object\n",
       "year                 int64\n",
       "city                object\n",
       "state               object\n",
       "country             object\n",
       "bats                object\n",
       "throws              object\n",
       "team_signed         object\n",
       "team_locale         object\n",
       "position            object\n",
       "contract_start       int64\n",
       "contract_end         int64\n",
       "contract_length      int64\n",
       "total_salary         int64\n",
       "age                  int64\n",
       "team_played         object\n",
       "league              object\n",
       "games                int64\n",
       "war                float64\n",
       "actual_salary      float64\n",
       "dtype: object"
      ]
     },
     "execution_count": 70,
     "metadata": {},
     "output_type": "execute_result"
    }
   ],
   "source": [
    "#Get data types of columns\n",
    "df.dtypes"
   ]
  },
  {
   "cell_type": "markdown",
   "id": "12a23c43",
   "metadata": {},
   "source": [
    "__Create derived variable for 'league' called 'league_r'__"
   ]
  },
  {
   "cell_type": "code",
   "execution_count": 71,
   "id": "be4acb8e",
   "metadata": {},
   "outputs": [
    {
     "data": {
      "text/plain": [
       "league\n",
       "NL    762\n",
       "AL    719\n",
       "Name: count, dtype: int64"
      ]
     },
     "execution_count": 71,
     "metadata": {},
     "output_type": "execute_result"
    }
   ],
   "source": [
    "#Check values for 'league'\n",
    "df['league'].value_counts()"
   ]
  },
  {
   "cell_type": "code",
   "execution_count": 72,
   "id": "8cb4288c",
   "metadata": {},
   "outputs": [],
   "source": [
    "# Time to make a new variable 'league_r'\n",
    "df.loc[df['league'] == 'AL', 'league_r'] = 0\n",
    "df.loc[df['league'] == 'NL', 'league_r'] = 1"
   ]
  },
  {
   "cell_type": "code",
   "execution_count": 73,
   "id": "1c994ba8",
   "metadata": {},
   "outputs": [
    {
     "data": {
      "text/plain": [
       "league  league_r\n",
       "NL      1.0         762\n",
       "AL      0.0         719\n",
       "Name: count, dtype: int64"
      ]
     },
     "execution_count": 73,
     "metadata": {},
     "output_type": "execute_result"
    }
   ],
   "source": [
    "#Confirm variable creation\n",
    "df[['league', 'league_r']].value_counts()"
   ]
  },
  {
   "cell_type": "markdown",
   "id": "a874ff3c",
   "metadata": {},
   "source": [
    "__Create derived variable for 'bats' called 'bats_r'__"
   ]
  },
  {
   "cell_type": "code",
   "execution_count": 74,
   "id": "91ca3187",
   "metadata": {},
   "outputs": [
    {
     "data": {
      "text/plain": [
       "bats\n",
       "R    919\n",
       "L    455\n",
       "S    107\n",
       "Name: count, dtype: int64"
      ]
     },
     "execution_count": 74,
     "metadata": {},
     "output_type": "execute_result"
    }
   ],
   "source": [
    "#Check values for 'bats'\n",
    "df['bats'].value_counts()"
   ]
  },
  {
   "cell_type": "code",
   "execution_count": 75,
   "id": "f4d2ba4e",
   "metadata": {},
   "outputs": [],
   "source": [
    "# Time to make a new variable 'bats_r'\n",
    "df.loc[df['bats'] == 'R', 'bats_r'] = 0\n",
    "df.loc[df['bats'] == 'L', 'bats_r'] = 1\n",
    "df.loc[df['bats'] == 'S', 'bats_r'] = 2"
   ]
  },
  {
   "cell_type": "code",
   "execution_count": 76,
   "id": "2481b011",
   "metadata": {},
   "outputs": [
    {
     "data": {
      "text/plain": [
       "bats  bats_r\n",
       "R     0.0       919\n",
       "L     1.0       455\n",
       "S     2.0       107\n",
       "Name: count, dtype: int64"
      ]
     },
     "execution_count": 76,
     "metadata": {},
     "output_type": "execute_result"
    }
   ],
   "source": [
    "#Confirm variable creation\n",
    "df[['bats', 'bats_r']].value_counts()"
   ]
  },
  {
   "cell_type": "markdown",
   "id": "3ecdd984",
   "metadata": {},
   "source": [
    "__Create derived variable for 'throws' called 'throws_r'__"
   ]
  },
  {
   "cell_type": "code",
   "execution_count": 77,
   "id": "122e6c58",
   "metadata": {},
   "outputs": [
    {
     "data": {
      "text/plain": [
       "throws\n",
       "R    1221\n",
       "L     260\n",
       "Name: count, dtype: int64"
      ]
     },
     "execution_count": 77,
     "metadata": {},
     "output_type": "execute_result"
    }
   ],
   "source": [
    "#Check values for 'throws'\n",
    "df['throws'].value_counts()"
   ]
  },
  {
   "cell_type": "code",
   "execution_count": 78,
   "id": "bf2957ac",
   "metadata": {},
   "outputs": [],
   "source": [
    "# Time to make a new variable 'throws_r'\n",
    "df.loc[df['throws'] == 'R', 'throws_r'] = 0\n",
    "df.loc[df['throws'] == 'L', 'throws_r'] = 1"
   ]
  },
  {
   "cell_type": "code",
   "execution_count": 79,
   "id": "7af92349",
   "metadata": {},
   "outputs": [
    {
     "data": {
      "text/plain": [
       "throws  throws_r\n",
       "R       0.0         1221\n",
       "L       1.0          260\n",
       "Name: count, dtype: int64"
      ]
     },
     "execution_count": 79,
     "metadata": {},
     "output_type": "execute_result"
    }
   ],
   "source": [
    "#Confirm variable creation\n",
    "df[['throws', 'throws_r']].value_counts()"
   ]
  },
  {
   "cell_type": "markdown",
   "id": "196c7b37",
   "metadata": {},
   "source": [
    "__Create derived variable for 'team_signed' called 'team_sr'__"
   ]
  },
  {
   "cell_type": "code",
   "execution_count": 80,
   "id": "f59c0323",
   "metadata": {},
   "outputs": [
    {
     "data": {
      "text/plain": [
       "team_signed\n",
       "NYY    125\n",
       "BOS     94\n",
       "CHC     77\n",
       "LAD     76\n",
       "STL     74\n",
       "TEX     67\n",
       "DET     65\n",
       "NYM     63\n",
       "PHI     60\n",
       "SFG     59\n",
       "ATL     58\n",
       "LAA     58\n",
       "COL     58\n",
       "MIA     52\n",
       "CHW     51\n",
       "TOR     50\n",
       "SEA     49\n",
       "WSN     43\n",
       "HOU     41\n",
       "CIN     39\n",
       "BAL     34\n",
       "SDP     33\n",
       "ARI     29\n",
       "MIN     29\n",
       "CLE     28\n",
       "MIL     19\n",
       "KCR     19\n",
       "TBR     15\n",
       "PIT     10\n",
       "OAK      6\n",
       "Name: count, dtype: int64"
      ]
     },
     "execution_count": 80,
     "metadata": {},
     "output_type": "execute_result"
    }
   ],
   "source": [
    "#Get values for 'team_signed'\n",
    "df['team_signed'].value_counts()"
   ]
  },
  {
   "cell_type": "code",
   "execution_count": 81,
   "id": "6f59634c",
   "metadata": {},
   "outputs": [],
   "source": [
    "# Time to make a new variable 'team_sr'\n",
    "df.loc[df['team_signed'] == 'ARI', 'team_sr'] = 0"
   ]
  },
  {
   "cell_type": "code",
   "execution_count": 82,
   "id": "3a6f11f9",
   "metadata": {},
   "outputs": [],
   "source": [
    "# Time to make a new variable 'team_sr'\n",
    "df.loc[df['team_signed'] == 'ATL', 'team_sr'] = 1\n",
    "df.loc[df['team_signed'] == 'BAL', 'team_sr'] = 2\n",
    "df.loc[df['team_signed'] == 'BOS', 'team_sr'] = 3\n",
    "df.loc[df['team_signed'] == 'CHC', 'team_sr'] = 4\n",
    "df.loc[df['team_signed'] == 'CHW', 'team_sr'] = 5\n",
    "df.loc[df['team_signed'] == 'CIN', 'team_sr'] = 6\n",
    "df.loc[df['team_signed'] == 'CLE', 'team_sr'] = 7\n",
    "df.loc[df['team_signed'] == 'COL', 'team_sr'] = 8\n",
    "df.loc[df['team_signed'] == 'DET', 'team_sr'] = 9\n",
    "df.loc[df['team_signed'] == 'HOU', 'team_sr'] = 10"
   ]
  },
  {
   "cell_type": "code",
   "execution_count": 83,
   "id": "9131d5dc",
   "metadata": {},
   "outputs": [],
   "source": [
    "# Time to make a new variable 'team_sr'\n",
    "df.loc[df['team_signed'] == 'KCR', 'team_sr'] = 11\n",
    "df.loc[df['team_signed'] == 'LAA', 'team_sr'] = 12\n",
    "df.loc[df['team_signed'] == 'LAD', 'team_sr'] = 13\n",
    "df.loc[df['team_signed'] == 'MIA', 'team_sr'] = 14\n",
    "df.loc[df['team_signed'] == 'MIL', 'team_sr'] = 15\n",
    "df.loc[df['team_signed'] == 'MIN', 'team_sr'] = 16\n",
    "df.loc[df['team_signed'] == 'NYM', 'team_sr'] = 17\n",
    "df.loc[df['team_signed'] == 'NYY', 'team_sr'] = 18\n",
    "df.loc[df['team_signed'] == 'OAK', 'team_sr'] = 19\n",
    "df.loc[df['team_signed'] == 'PHI', 'team_sr'] = 20"
   ]
  },
  {
   "cell_type": "code",
   "execution_count": 84,
   "id": "bdeff6e4",
   "metadata": {},
   "outputs": [],
   "source": [
    "# Time to make a new variable 'team_sr'\n",
    "df.loc[df['team_signed'] == 'PIT', 'team_sr'] = 21\n",
    "df.loc[df['team_signed'] == 'SDP', 'team_sr'] = 22\n",
    "df.loc[df['team_signed'] == 'SEA', 'team_sr'] = 23\n",
    "df.loc[df['team_signed'] == 'SFG', 'team_sr'] = 24\n",
    "df.loc[df['team_signed'] == 'STL', 'team_sr'] = 25\n",
    "df.loc[df['team_signed'] == 'TBR', 'team_sr'] = 26\n",
    "df.loc[df['team_signed'] == 'TEX', 'team_sr'] = 27\n",
    "df.loc[df['team_signed'] == 'TOR', 'team_sr'] = 28\n",
    "df.loc[df['team_signed'] == 'WSN', 'team_sr'] = 29"
   ]
  },
  {
   "cell_type": "code",
   "execution_count": 85,
   "id": "06ec3fbe",
   "metadata": {},
   "outputs": [
    {
     "data": {
      "text/plain": [
       "team_signed  team_sr\n",
       "NYY          18.0       125\n",
       "BOS          3.0         94\n",
       "CHC          4.0         77\n",
       "LAD          13.0        76\n",
       "STL          25.0        74\n",
       "TEX          27.0        67\n",
       "DET          9.0         65\n",
       "NYM          17.0        63\n",
       "PHI          20.0        60\n",
       "SFG          24.0        59\n",
       "COL          8.0         58\n",
       "LAA          12.0        58\n",
       "ATL          1.0         58\n",
       "MIA          14.0        52\n",
       "CHW          5.0         51\n",
       "TOR          28.0        50\n",
       "SEA          23.0        49\n",
       "WSN          29.0        43\n",
       "HOU          10.0        41\n",
       "CIN          6.0         39\n",
       "BAL          2.0         34\n",
       "SDP          22.0        33\n",
       "ARI          0.0         29\n",
       "MIN          16.0        29\n",
       "CLE          7.0         28\n",
       "KCR          11.0        19\n",
       "MIL          15.0        19\n",
       "TBR          26.0        15\n",
       "PIT          21.0        10\n",
       "OAK          19.0         6\n",
       "Name: count, dtype: int64"
      ]
     },
     "execution_count": 85,
     "metadata": {},
     "output_type": "execute_result"
    }
   ],
   "source": [
    "df[['team_signed','team_sr']].value_counts()"
   ]
  },
  {
   "cell_type": "markdown",
   "id": "3568b951",
   "metadata": {},
   "source": [
    "__Create a derived variable for 'team_played' called 'team_pr'__"
   ]
  },
  {
   "cell_type": "code",
   "execution_count": 86,
   "id": "a2af5263",
   "metadata": {},
   "outputs": [
    {
     "data": {
      "text/plain": [
       "team_played\n",
       "NYY    141\n",
       "LAD     87\n",
       "BOS     80\n",
       "STL     75\n",
       "NYM     73\n",
       "ATL     71\n",
       "CHW     69\n",
       "LAA     67\n",
       "CHC     66\n",
       "SFG     65\n",
       "PHI     59\n",
       "DET     57\n",
       "TEX     55\n",
       "SEA     52\n",
       "COL     49\n",
       "HOU     48\n",
       "TOR     48\n",
       "WSN     37\n",
       "CIN     37\n",
       "SDP     35\n",
       "BAL     31\n",
       "ARI     28\n",
       "MIN     26\n",
       "MIA     23\n",
       "CLE     22\n",
       "KCR     22\n",
       "MIL     20\n",
       "OAK     12\n",
       "TBR      9\n",
       "PIT      9\n",
       "FLA      5\n",
       "ANA      3\n",
       "Name: count, dtype: int64"
      ]
     },
     "execution_count": 86,
     "metadata": {},
     "output_type": "execute_result"
    }
   ],
   "source": [
    "#Get values for 'team_signed'\n",
    "df['team_played'].value_counts()"
   ]
  },
  {
   "cell_type": "code",
   "execution_count": 87,
   "id": "4756c048",
   "metadata": {},
   "outputs": [],
   "source": [
    "# Time to make a new variable 'team_pr'\n",
    "df.loc[df['team_played'] == 'ARI', 'team_pr'] = 0"
   ]
  },
  {
   "cell_type": "code",
   "execution_count": 88,
   "id": "aa318271",
   "metadata": {},
   "outputs": [],
   "source": [
    "# Time to make a new variable 'team_pr'\n",
    "df.loc[df['team_played'] == 'ATL', 'team_pr'] = 1\n",
    "df.loc[df['team_played'] == 'BAL', 'team_pr'] = 2\n",
    "df.loc[df['team_played'] == 'BOS', 'team_pr'] = 3\n",
    "df.loc[df['team_played'] == 'CHC', 'team_pr'] = 4\n",
    "df.loc[df['team_played'] == 'CHW', 'team_pr'] = 5\n",
    "df.loc[df['team_played'] == 'CIN', 'team_pr'] = 6\n",
    "df.loc[df['team_played'] == 'CLE', 'team_pr'] = 7\n",
    "df.loc[df['team_played'] == 'COL', 'team_pr'] = 8\n",
    "df.loc[df['team_played'] == 'DET', 'team_pr'] = 9\n",
    "df.loc[df['team_played'] == 'HOU', 'team_pr'] = 10"
   ]
  },
  {
   "cell_type": "code",
   "execution_count": 89,
   "id": "caa84e90",
   "metadata": {},
   "outputs": [],
   "source": [
    "# Time to make a new variable 'team_pr'\n",
    "df.loc[df['team_played'] == 'KCR', 'team_pr'] = 11\n",
    "df.loc[df['team_played'] == 'LAA', 'team_pr'] = 12\n",
    "df.loc[df['team_played'] == 'LAD', 'team_pr'] = 13\n",
    "df.loc[df['team_played'] == 'MIA', 'team_pr'] = 14\n",
    "df.loc[df['team_played'] == 'MIL', 'team_pr'] = 15\n",
    "df.loc[df['team_played'] == 'MIN', 'team_pr'] = 16\n",
    "df.loc[df['team_played'] == 'NYM', 'team_pr'] = 17\n",
    "df.loc[df['team_played'] == 'NYY', 'team_pr'] = 18\n",
    "df.loc[df['team_played'] == 'OAK', 'team_pr'] = 19\n",
    "df.loc[df['team_played'] == 'PHI', 'team_pr'] = 20"
   ]
  },
  {
   "cell_type": "code",
   "execution_count": 90,
   "id": "023d7fe6",
   "metadata": {},
   "outputs": [],
   "source": [
    "# Time to make a new variable 'team_pr'\n",
    "df.loc[df['team_played'] == 'PIT', 'team_pr'] = 21\n",
    "df.loc[df['team_played'] == 'SDP', 'team_pr'] = 22\n",
    "df.loc[df['team_played'] == 'SEA', 'team_pr'] = 23\n",
    "df.loc[df['team_played'] == 'SFG', 'team_pr'] = 24\n",
    "df.loc[df['team_played'] == 'STL', 'team_pr'] = 25\n",
    "df.loc[df['team_played'] == 'TBR', 'team_pr'] = 26\n",
    "df.loc[df['team_played'] == 'TEX', 'team_pr'] = 27\n",
    "df.loc[df['team_played'] == 'TOR', 'team_pr'] = 28\n",
    "df.loc[df['team_played'] == 'WSN', 'team_pr'] = 29\n",
    "df.loc[df['team_played'] == 'ANA', 'team_pr'] = 30\n",
    "df.loc[df['team_played'] == 'FLA', 'team_pr'] = 31"
   ]
  },
  {
   "cell_type": "code",
   "execution_count": 91,
   "id": "8a462ca4",
   "metadata": {},
   "outputs": [
    {
     "data": {
      "text/plain": [
       "team_played  team_pr\n",
       "NYY          18.0       141\n",
       "LAD          13.0        87\n",
       "BOS          3.0         80\n",
       "STL          25.0        75\n",
       "NYM          17.0        73\n",
       "ATL          1.0         71\n",
       "CHW          5.0         69\n",
       "LAA          12.0        67\n",
       "CHC          4.0         66\n",
       "SFG          24.0        65\n",
       "PHI          20.0        59\n",
       "DET          9.0         57\n",
       "TEX          27.0        55\n",
       "SEA          23.0        52\n",
       "COL          8.0         49\n",
       "HOU          10.0        48\n",
       "TOR          28.0        48\n",
       "CIN          6.0         37\n",
       "WSN          29.0        37\n",
       "SDP          22.0        35\n",
       "BAL          2.0         31\n",
       "ARI          0.0         28\n",
       "MIN          16.0        26\n",
       "MIA          14.0        23\n",
       "KCR          11.0        22\n",
       "CLE          7.0         22\n",
       "MIL          15.0        20\n",
       "OAK          19.0        12\n",
       "PIT          21.0         9\n",
       "TBR          26.0         9\n",
       "FLA          31.0         5\n",
       "ANA          30.0         3\n",
       "Name: count, dtype: int64"
      ]
     },
     "execution_count": 91,
     "metadata": {},
     "output_type": "execute_result"
    }
   ],
   "source": [
    "#Confirm variable creations\n",
    "df[['team_played', 'team_pr']].value_counts()"
   ]
  },
  {
   "cell_type": "markdown",
   "id": "72d8423f",
   "metadata": {},
   "source": [
    "__Create a new derived variable for 'position' called 'position_r'__"
   ]
  },
  {
   "cell_type": "code",
   "execution_count": 92,
   "id": "3a3852d5",
   "metadata": {},
   "outputs": [
    {
     "data": {
      "text/plain": [
       "position\n",
       "SP    413\n",
       "3B    182\n",
       "DH    154\n",
       "RF    127\n",
       "LF    118\n",
       "1B    106\n",
       "SS     92\n",
       "2B     87\n",
       "C      75\n",
       "CF     58\n",
       "OF     43\n",
       "RP     26\n",
       "Name: count, dtype: int64"
      ]
     },
     "execution_count": 92,
     "metadata": {},
     "output_type": "execute_result"
    }
   ],
   "source": [
    "#check value counts for 'position'\n",
    "df['position'].value_counts()"
   ]
  },
  {
   "cell_type": "code",
   "execution_count": 94,
   "id": "ca43ccda",
   "metadata": {},
   "outputs": [],
   "source": [
    "# Time to make a new variable 'position_r'\n",
    "df.loc[df['position'] == 'RP', 'position_r'] = 0\n",
    "df.loc[df['position'] == 'SP', 'position_r'] = 1\n",
    "df.loc[df['position'] == 'C', 'position_r'] = 2\n",
    "df.loc[df['position'] == '1B', 'position_r'] = 3\n",
    "df.loc[df['position'] == '2B', 'position_r'] = 4\n",
    "df.loc[df['position'] == '3B', 'position_r'] = 5\n",
    "df.loc[df['position'] == 'SS', 'position_r'] = 6\n",
    "df.loc[df['position'] == 'LF', 'position_r'] = 7\n",
    "df.loc[df['position'] == 'CF', 'position_r'] = 8\n",
    "df.loc[df['position'] == 'RF', 'position_r'] = 9\n",
    "df.loc[df['position'] == 'DH', 'position_r'] = 10\n",
    "df.loc[df['position'] == 'OF', 'position_r'] = 11"
   ]
  },
  {
   "cell_type": "code",
   "execution_count": 95,
   "id": "7d7e69bb",
   "metadata": {},
   "outputs": [
    {
     "data": {
      "text/plain": [
       "position  position_r\n",
       "SP        1.0           413\n",
       "3B        5.0           182\n",
       "DH        10.0          154\n",
       "RF        9.0           127\n",
       "LF        7.0           118\n",
       "1B        3.0           106\n",
       "SS        6.0            92\n",
       "2B        4.0            87\n",
       "C         2.0            75\n",
       "CF        8.0            58\n",
       "OF        11.0           43\n",
       "RP        0.0            26\n",
       "Name: count, dtype: int64"
      ]
     },
     "execution_count": 95,
     "metadata": {},
     "output_type": "execute_result"
    }
   ],
   "source": [
    "#confirm variable creation\n",
    "df[['position', 'position_r']].value_counts()"
   ]
  },
  {
   "cell_type": "markdown",
   "id": "9ad15c26",
   "metadata": {},
   "source": [
    "__Look at df to confirm all new variables!__"
   ]
  },
  {
   "cell_type": "code",
   "execution_count": 96,
   "id": "e89a9766",
   "metadata": {
    "scrolled": true
   },
   "outputs": [
    {
     "data": {
      "text/html": [
       "<div>\n",
       "<style scoped>\n",
       "    .dataframe tbody tr th:only-of-type {\n",
       "        vertical-align: middle;\n",
       "    }\n",
       "\n",
       "    .dataframe tbody tr th {\n",
       "        vertical-align: top;\n",
       "    }\n",
       "\n",
       "    .dataframe thead th {\n",
       "        text-align: right;\n",
       "    }\n",
       "</style>\n",
       "<table border=\"1\" class=\"dataframe\">\n",
       "  <thead>\n",
       "    <tr style=\"text-align: right;\">\n",
       "      <th></th>\n",
       "      <th>rank</th>\n",
       "      <th>combined_key</th>\n",
       "      <th>name</th>\n",
       "      <th>year</th>\n",
       "      <th>city</th>\n",
       "      <th>state</th>\n",
       "      <th>country</th>\n",
       "      <th>bats</th>\n",
       "      <th>throws</th>\n",
       "      <th>team_signed</th>\n",
       "      <th>...</th>\n",
       "      <th>league</th>\n",
       "      <th>games</th>\n",
       "      <th>war</th>\n",
       "      <th>actual_salary</th>\n",
       "      <th>league_r</th>\n",
       "      <th>bats_r</th>\n",
       "      <th>throws_r</th>\n",
       "      <th>team_sr</th>\n",
       "      <th>team_pr</th>\n",
       "      <th>position_r</th>\n",
       "    </tr>\n",
       "  </thead>\n",
       "  <tbody>\n",
       "    <tr>\n",
       "      <th>0</th>\n",
       "      <td>1</td>\n",
       "      <td>Mike Trout, 2019</td>\n",
       "      <td>Mike Trout</td>\n",
       "      <td>2019</td>\n",
       "      <td>Vineland, New Jersey</td>\n",
       "      <td>New Jersey</td>\n",
       "      <td>United States</td>\n",
       "      <td>R</td>\n",
       "      <td>R</td>\n",
       "      <td>LAA</td>\n",
       "      <td>...</td>\n",
       "      <td>AL</td>\n",
       "      <td>134</td>\n",
       "      <td>7.9</td>\n",
       "      <td>17666667.0</td>\n",
       "      <td>0.0</td>\n",
       "      <td>0.0</td>\n",
       "      <td>0.0</td>\n",
       "      <td>12.0</td>\n",
       "      <td>12.0</td>\n",
       "      <td>8.0</td>\n",
       "    </tr>\n",
       "    <tr>\n",
       "      <th>1</th>\n",
       "      <td>1</td>\n",
       "      <td>Mike Trout, 2020</td>\n",
       "      <td>Mike Trout</td>\n",
       "      <td>2020</td>\n",
       "      <td>Vineland, New Jersey</td>\n",
       "      <td>New Jersey</td>\n",
       "      <td>United States</td>\n",
       "      <td>R</td>\n",
       "      <td>R</td>\n",
       "      <td>LAA</td>\n",
       "      <td>...</td>\n",
       "      <td>AL</td>\n",
       "      <td>53</td>\n",
       "      <td>1.8</td>\n",
       "      <td>37666666.0</td>\n",
       "      <td>0.0</td>\n",
       "      <td>0.0</td>\n",
       "      <td>0.0</td>\n",
       "      <td>12.0</td>\n",
       "      <td>12.0</td>\n",
       "      <td>8.0</td>\n",
       "    </tr>\n",
       "    <tr>\n",
       "      <th>2</th>\n",
       "      <td>1</td>\n",
       "      <td>Mike Trout, 2021</td>\n",
       "      <td>Mike Trout</td>\n",
       "      <td>2021</td>\n",
       "      <td>Vineland, New Jersey</td>\n",
       "      <td>New Jersey</td>\n",
       "      <td>United States</td>\n",
       "      <td>R</td>\n",
       "      <td>R</td>\n",
       "      <td>LAA</td>\n",
       "      <td>...</td>\n",
       "      <td>AL</td>\n",
       "      <td>36</td>\n",
       "      <td>1.8</td>\n",
       "      <td>37116667.0</td>\n",
       "      <td>0.0</td>\n",
       "      <td>0.0</td>\n",
       "      <td>0.0</td>\n",
       "      <td>12.0</td>\n",
       "      <td>12.0</td>\n",
       "      <td>8.0</td>\n",
       "    </tr>\n",
       "    <tr>\n",
       "      <th>3</th>\n",
       "      <td>1</td>\n",
       "      <td>Mike Trout, 2022</td>\n",
       "      <td>Mike Trout</td>\n",
       "      <td>2022</td>\n",
       "      <td>Vineland, New Jersey</td>\n",
       "      <td>New Jersey</td>\n",
       "      <td>United States</td>\n",
       "      <td>R</td>\n",
       "      <td>R</td>\n",
       "      <td>LAA</td>\n",
       "      <td>...</td>\n",
       "      <td>AL</td>\n",
       "      <td>119</td>\n",
       "      <td>6.3</td>\n",
       "      <td>37116666.0</td>\n",
       "      <td>0.0</td>\n",
       "      <td>0.0</td>\n",
       "      <td>0.0</td>\n",
       "      <td>12.0</td>\n",
       "      <td>12.0</td>\n",
       "      <td>8.0</td>\n",
       "    </tr>\n",
       "    <tr>\n",
       "      <th>4</th>\n",
       "      <td>1</td>\n",
       "      <td>Mike Trout, 2023</td>\n",
       "      <td>Mike Trout</td>\n",
       "      <td>2023</td>\n",
       "      <td>Vineland, New Jersey</td>\n",
       "      <td>New Jersey</td>\n",
       "      <td>United States</td>\n",
       "      <td>R</td>\n",
       "      <td>R</td>\n",
       "      <td>LAA</td>\n",
       "      <td>...</td>\n",
       "      <td>AL</td>\n",
       "      <td>81</td>\n",
       "      <td>3.0</td>\n",
       "      <td>37116667.0</td>\n",
       "      <td>0.0</td>\n",
       "      <td>0.0</td>\n",
       "      <td>0.0</td>\n",
       "      <td>12.0</td>\n",
       "      <td>12.0</td>\n",
       "      <td>8.0</td>\n",
       "    </tr>\n",
       "  </tbody>\n",
       "</table>\n",
       "<p>5 rows × 28 columns</p>\n",
       "</div>"
      ],
      "text/plain": [
       "   rank      combined_key        name  year                  city       state  \\\n",
       "0     1  Mike Trout, 2019  Mike Trout  2019  Vineland, New Jersey  New Jersey   \n",
       "1     1  Mike Trout, 2020  Mike Trout  2020  Vineland, New Jersey  New Jersey   \n",
       "2     1  Mike Trout, 2021  Mike Trout  2021  Vineland, New Jersey  New Jersey   \n",
       "3     1  Mike Trout, 2022  Mike Trout  2022  Vineland, New Jersey  New Jersey   \n",
       "4     1  Mike Trout, 2023  Mike Trout  2023  Vineland, New Jersey  New Jersey   \n",
       "\n",
       "         country bats throws team_signed  ... league games  war  \\\n",
       "0  United States    R      R         LAA  ...     AL   134  7.9   \n",
       "1  United States    R      R         LAA  ...     AL    53  1.8   \n",
       "2  United States    R      R         LAA  ...     AL    36  1.8   \n",
       "3  United States    R      R         LAA  ...     AL   119  6.3   \n",
       "4  United States    R      R         LAA  ...     AL    81  3.0   \n",
       "\n",
       "   actual_salary  league_r  bats_r  throws_r team_sr team_pr  position_r  \n",
       "0     17666667.0       0.0     0.0       0.0    12.0    12.0         8.0  \n",
       "1     37666666.0       0.0     0.0       0.0    12.0    12.0         8.0  \n",
       "2     37116667.0       0.0     0.0       0.0    12.0    12.0         8.0  \n",
       "3     37116666.0       0.0     0.0       0.0    12.0    12.0         8.0  \n",
       "4     37116667.0       0.0     0.0       0.0    12.0    12.0         8.0  \n",
       "\n",
       "[5 rows x 28 columns]"
      ]
     },
     "execution_count": 96,
     "metadata": {},
     "output_type": "execute_result"
    }
   ],
   "source": [
    "df.head()"
   ]
  },
  {
   "cell_type": "code",
   "execution_count": 99,
   "id": "50bdea06",
   "metadata": {},
   "outputs": [
    {
     "data": {
      "text/html": [
       "<div>\n",
       "<style scoped>\n",
       "    .dataframe tbody tr th:only-of-type {\n",
       "        vertical-align: middle;\n",
       "    }\n",
       "\n",
       "    .dataframe tbody tr th {\n",
       "        vertical-align: top;\n",
       "    }\n",
       "\n",
       "    .dataframe thead th {\n",
       "        text-align: right;\n",
       "    }\n",
       "</style>\n",
       "<table border=\"1\" class=\"dataframe\">\n",
       "  <thead>\n",
       "    <tr style=\"text-align: right;\">\n",
       "      <th></th>\n",
       "      <th>rank</th>\n",
       "      <th>year</th>\n",
       "      <th>contract_start</th>\n",
       "      <th>contract_end</th>\n",
       "      <th>contract_length</th>\n",
       "      <th>total_salary</th>\n",
       "      <th>age</th>\n",
       "      <th>games</th>\n",
       "      <th>war</th>\n",
       "      <th>actual_salary</th>\n",
       "      <th>league_r</th>\n",
       "      <th>bats_r</th>\n",
       "      <th>throws_r</th>\n",
       "      <th>team_sr</th>\n",
       "      <th>team_pr</th>\n",
       "      <th>position_r</th>\n",
       "    </tr>\n",
       "  </thead>\n",
       "  <tbody>\n",
       "    <tr>\n",
       "      <th>count</th>\n",
       "      <td>1481.000000</td>\n",
       "      <td>1481.000000</td>\n",
       "      <td>1481.00000</td>\n",
       "      <td>1481.000000</td>\n",
       "      <td>1481.000000</td>\n",
       "      <td>1.481000e+03</td>\n",
       "      <td>1481.000000</td>\n",
       "      <td>1481.000000</td>\n",
       "      <td>1480.000000</td>\n",
       "      <td>1.397000e+03</td>\n",
       "      <td>1481.000000</td>\n",
       "      <td>1481.000000</td>\n",
       "      <td>1481.000000</td>\n",
       "      <td>1481.000000</td>\n",
       "      <td>1481.000000</td>\n",
       "      <td>1481.000000</td>\n",
       "    </tr>\n",
       "    <tr>\n",
       "      <th>mean</th>\n",
       "      <td>154.706955</td>\n",
       "      <td>2014.382849</td>\n",
       "      <td>2012.04659</td>\n",
       "      <td>2017.472654</td>\n",
       "      <td>6.124240</td>\n",
       "      <td>1.113499e+08</td>\n",
       "      <td>31.659689</td>\n",
       "      <td>88.265361</td>\n",
       "      <td>2.447500</td>\n",
       "      <td>1.670079e+07</td>\n",
       "      <td>0.514517</td>\n",
       "      <td>0.451722</td>\n",
       "      <td>0.175557</td>\n",
       "      <td>14.206617</td>\n",
       "      <td>14.257934</td>\n",
       "      <td>4.819041</td>\n",
       "    </tr>\n",
       "    <tr>\n",
       "      <th>std</th>\n",
       "      <td>93.844289</td>\n",
       "      <td>6.377533</td>\n",
       "      <td>6.54567</td>\n",
       "      <td>6.771220</td>\n",
       "      <td>1.892935</td>\n",
       "      <td>6.408205e+07</td>\n",
       "      <td>3.202457</td>\n",
       "      <td>54.774974</td>\n",
       "      <td>2.455493</td>\n",
       "      <td>7.372579e+06</td>\n",
       "      <td>0.499958</td>\n",
       "      <td>0.626443</td>\n",
       "      <td>0.380571</td>\n",
       "      <td>8.684981</td>\n",
       "      <td>8.626776</td>\n",
       "      <td>3.380339</td>\n",
       "    </tr>\n",
       "    <tr>\n",
       "      <th>min</th>\n",
       "      <td>1.000000</td>\n",
       "      <td>1997.000000</td>\n",
       "      <td>1997.00000</td>\n",
       "      <td>2001.000000</td>\n",
       "      <td>2.000000</td>\n",
       "      <td>5.200000e+07</td>\n",
       "      <td>21.000000</td>\n",
       "      <td>1.000000</td>\n",
       "      <td>-3.300000</td>\n",
       "      <td>1.000000e+05</td>\n",
       "      <td>0.000000</td>\n",
       "      <td>0.000000</td>\n",
       "      <td>0.000000</td>\n",
       "      <td>0.000000</td>\n",
       "      <td>0.000000</td>\n",
       "      <td>0.000000</td>\n",
       "    </tr>\n",
       "    <tr>\n",
       "      <th>25%</th>\n",
       "      <td>73.000000</td>\n",
       "      <td>2010.000000</td>\n",
       "      <td>2007.00000</td>\n",
       "      <td>2012.000000</td>\n",
       "      <td>5.000000</td>\n",
       "      <td>6.600000e+07</td>\n",
       "      <td>30.000000</td>\n",
       "      <td>32.000000</td>\n",
       "      <td>0.600000</td>\n",
       "      <td>1.200000e+07</td>\n",
       "      <td>0.000000</td>\n",
       "      <td>0.000000</td>\n",
       "      <td>0.000000</td>\n",
       "      <td>6.000000</td>\n",
       "      <td>6.000000</td>\n",
       "      <td>1.000000</td>\n",
       "    </tr>\n",
       "    <tr>\n",
       "      <th>50%</th>\n",
       "      <td>152.000000</td>\n",
       "      <td>2015.000000</td>\n",
       "      <td>2013.00000</td>\n",
       "      <td>2018.000000</td>\n",
       "      <td>6.000000</td>\n",
       "      <td>8.500000e+07</td>\n",
       "      <td>32.000000</td>\n",
       "      <td>97.000000</td>\n",
       "      <td>2.100000</td>\n",
       "      <td>1.575000e+07</td>\n",
       "      <td>1.000000</td>\n",
       "      <td>0.000000</td>\n",
       "      <td>0.000000</td>\n",
       "      <td>14.000000</td>\n",
       "      <td>14.000000</td>\n",
       "      <td>5.000000</td>\n",
       "    </tr>\n",
       "    <tr>\n",
       "      <th>75%</th>\n",
       "      <td>238.000000</td>\n",
       "      <td>2020.000000</td>\n",
       "      <td>2017.00000</td>\n",
       "      <td>2023.000000</td>\n",
       "      <td>7.000000</td>\n",
       "      <td>1.375000e+08</td>\n",
       "      <td>34.000000</td>\n",
       "      <td>143.000000</td>\n",
       "      <td>4.000000</td>\n",
       "      <td>2.100000e+07</td>\n",
       "      <td>1.000000</td>\n",
       "      <td>1.000000</td>\n",
       "      <td>0.000000</td>\n",
       "      <td>22.000000</td>\n",
       "      <td>22.000000</td>\n",
       "      <td>8.000000</td>\n",
       "    </tr>\n",
       "    <tr>\n",
       "      <th>max</th>\n",
       "      <td>320.000000</td>\n",
       "      <td>2023.000000</td>\n",
       "      <td>2023.00000</td>\n",
       "      <td>2034.000000</td>\n",
       "      <td>14.000000</td>\n",
       "      <td>4.265000e+08</td>\n",
       "      <td>41.000000</td>\n",
       "      <td>163.000000</td>\n",
       "      <td>11.700000</td>\n",
       "      <td>4.333333e+07</td>\n",
       "      <td>1.000000</td>\n",
       "      <td>2.000000</td>\n",
       "      <td>1.000000</td>\n",
       "      <td>29.000000</td>\n",
       "      <td>31.000000</td>\n",
       "      <td>11.000000</td>\n",
       "    </tr>\n",
       "  </tbody>\n",
       "</table>\n",
       "</div>"
      ],
      "text/plain": [
       "              rank         year  contract_start  contract_end  \\\n",
       "count  1481.000000  1481.000000      1481.00000   1481.000000   \n",
       "mean    154.706955  2014.382849      2012.04659   2017.472654   \n",
       "std      93.844289     6.377533         6.54567      6.771220   \n",
       "min       1.000000  1997.000000      1997.00000   2001.000000   \n",
       "25%      73.000000  2010.000000      2007.00000   2012.000000   \n",
       "50%     152.000000  2015.000000      2013.00000   2018.000000   \n",
       "75%     238.000000  2020.000000      2017.00000   2023.000000   \n",
       "max     320.000000  2023.000000      2023.00000   2034.000000   \n",
       "\n",
       "       contract_length  total_salary          age        games          war  \\\n",
       "count      1481.000000  1.481000e+03  1481.000000  1481.000000  1480.000000   \n",
       "mean          6.124240  1.113499e+08    31.659689    88.265361     2.447500   \n",
       "std           1.892935  6.408205e+07     3.202457    54.774974     2.455493   \n",
       "min           2.000000  5.200000e+07    21.000000     1.000000    -3.300000   \n",
       "25%           5.000000  6.600000e+07    30.000000    32.000000     0.600000   \n",
       "50%           6.000000  8.500000e+07    32.000000    97.000000     2.100000   \n",
       "75%           7.000000  1.375000e+08    34.000000   143.000000     4.000000   \n",
       "max          14.000000  4.265000e+08    41.000000   163.000000    11.700000   \n",
       "\n",
       "       actual_salary     league_r       bats_r     throws_r      team_sr  \\\n",
       "count   1.397000e+03  1481.000000  1481.000000  1481.000000  1481.000000   \n",
       "mean    1.670079e+07     0.514517     0.451722     0.175557    14.206617   \n",
       "std     7.372579e+06     0.499958     0.626443     0.380571     8.684981   \n",
       "min     1.000000e+05     0.000000     0.000000     0.000000     0.000000   \n",
       "25%     1.200000e+07     0.000000     0.000000     0.000000     6.000000   \n",
       "50%     1.575000e+07     1.000000     0.000000     0.000000    14.000000   \n",
       "75%     2.100000e+07     1.000000     1.000000     0.000000    22.000000   \n",
       "max     4.333333e+07     1.000000     2.000000     1.000000    29.000000   \n",
       "\n",
       "           team_pr   position_r  \n",
       "count  1481.000000  1481.000000  \n",
       "mean     14.257934     4.819041  \n",
       "std       8.626776     3.380339  \n",
       "min       0.000000     0.000000  \n",
       "25%       6.000000     1.000000  \n",
       "50%      14.000000     5.000000  \n",
       "75%      22.000000     8.000000  \n",
       "max      31.000000    11.000000  "
      ]
     },
     "execution_count": 99,
     "metadata": {},
     "output_type": "execute_result"
    }
   ],
   "source": [
    "df.describe()"
   ]
  },
  {
   "cell_type": "markdown",
   "id": "71ad3625",
   "metadata": {},
   "source": [
    "All the variables shown in df.describe() are int or float type variables and can be used with the corr() function and to create maps. So now six more of my variables can be analyzed and explored the way I want them too."
   ]
  },
  {
   "cell_type": "markdown",
   "id": "825893b2",
   "metadata": {},
   "source": [
    "### 02. Data Export"
   ]
  },
  {
   "cell_type": "code",
   "execution_count": 100,
   "id": "5f6c2a00",
   "metadata": {},
   "outputs": [],
   "source": [
    "df.to_csv(os.path.join(path, 'Cleaned Data', 'baseball_dv.csv'))"
   ]
  },
  {
   "cell_type": "code",
   "execution_count": null,
   "id": "b4bb9b01",
   "metadata": {},
   "outputs": [],
   "source": []
  }
 ],
 "metadata": {
  "kernelspec": {
   "display_name": "Python 3 (ipykernel)",
   "language": "python",
   "name": "python3"
  },
  "language_info": {
   "codemirror_mode": {
    "name": "ipython",
    "version": 3
   },
   "file_extension": ".py",
   "mimetype": "text/x-python",
   "name": "python",
   "nbconvert_exporter": "python",
   "pygments_lexer": "ipython3",
   "version": "3.10.12"
  }
 },
 "nbformat": 4,
 "nbformat_minor": 5
}
